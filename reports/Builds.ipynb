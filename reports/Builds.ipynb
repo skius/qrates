{
 "cells": [
  {
   "cell_type": "markdown",
   "metadata": {},
   "source": [
    "# Information about the current dataset\n",
    "\n",
    "This worksheet analyses some basic properties of the dataset we use.\n",
    "We highlight numbers referred to in the paper by quoting the corresponding sentences from Section 5.1, which explains our experimental setup.\n",
    "\n",
    "## Setup"
   ]
  },
  {
   "cell_type": "code",
   "execution_count": 1,
   "metadata": {},
   "outputs": [],
   "source": [
    "import pandas as pd\n",
    "import matplotlib.pyplot as plt\n",
    "import utils"
   ]
  },
  {
   "cell_type": "code",
   "execution_count": 2,
   "metadata": {},
   "outputs": [],
   "source": [
    "selected_builds = utils.load_selected_builds()"
   ]
  },
  {
   "cell_type": "markdown",
   "metadata": {},
   "source": [
    "## Number of Builds\n",
    "\n",
    "The number of crates we managed to successfully build:"
   ]
  },
  {
   "cell_type": "code",
   "execution_count": 3,
   "metadata": {},
   "outputs": [
    {
     "data": {
      "text/plain": [
       "10"
      ]
     },
     "execution_count": 3,
     "metadata": {},
     "output_type": "execute_result"
    }
   ],
   "source": [
    "len(selected_builds)"
   ]
  },
  {
   "cell_type": "markdown",
   "metadata": {},
   "source": [
    "## Crate Names"
   ]
  },
  {
   "cell_type": "markdown",
   "metadata": {},
   "source": [
    "The most popular crate names are:"
   ]
  },
  {
   "cell_type": "code",
   "execution_count": 4,
   "metadata": {},
   "outputs": [
    {
     "data": {
      "text/plain": [
       "crate\n",
       "hashbrown       1\n",
       "proc_macro2     1\n",
       "base64          1\n",
       "cfg_if          1\n",
       "rand_core       1\n",
       "syn             1\n",
       "quote           1\n",
       "libc            1\n",
       "bitflags        1\n",
       "regex_syntax    1\n",
       "Name: count, dtype: int64"
      ]
     },
     "execution_count": 4,
     "metadata": {},
     "output_type": "execute_result"
    }
   ],
   "source": [
    "selected_builds.crate.value_counts()[:10]"
   ]
  },
  {
   "cell_type": "markdown",
   "metadata": {},
   "source": [
    "The crate names `build_script_<file>` indicate that the crate is a build script; `<file>` is the name of the actual build script without the `.rs` suffix. We have omited the build scripts from our analysis; that is why they are not shown in `selected_builds`.\n",
    "\n",
    "The crate names that often repeat such as `main`, `example`, `test`, and `demo` typically belong to binaries as can be seen from the following frequence table:"
   ]
  },
  {
   "cell_type": "code",
   "execution_count": 5,
   "metadata": {},
   "outputs": [
    {
     "data": {
      "text/plain": [
       "Series([], Name: count, dtype: int64)"
      ]
     },
     "execution_count": 5,
     "metadata": {},
     "output_type": "execute_result"
    }
   ],
   "source": [
    "selected_builds.query(\"crate_types=='bin'\").crate.value_counts()"
   ]
  },
  {
   "cell_type": "markdown",
   "metadata": {},
   "source": [
    "## Crate Types\n",
    "\n",
    "We first check what crate types exist:"
   ]
  },
  {
   "cell_type": "code",
   "execution_count": 6,
   "metadata": {},
   "outputs": [
    {
     "data": {
      "text/plain": [
       "array(['rlib'], dtype=object)"
      ]
     },
     "execution_count": 6,
     "metadata": {},
     "output_type": "execute_result"
    }
   ],
   "source": [
    "pd.unique(selected_builds.crate_types)"
   ]
  },
  {
   "cell_type": "markdown",
   "metadata": {},
   "source": [
    "Count how many crates of each type we have:"
   ]
  },
  {
   "cell_type": "code",
   "execution_count": 7,
   "metadata": {},
   "outputs": [
    {
     "name": "stdout",
     "output_type": "stream",
     "text": [
      "{'rlib': 10}\n"
     ]
    }
   ],
   "source": [
    "import utils\n",
    "crate_type_counts = utils.count_builds_per_type(selected_builds)\n",
    "print(crate_type_counts)"
   ]
  },
  {
   "cell_type": "markdown",
   "metadata": {},
   "source": [
    "The three builds with missing type are Rust files [generated](https://gitlab.com/tspiteri/rug/-/blob/834cbefbce178a67bd97cc93ab1f88f262bd6126/build.rs#L27-29) by the `rug` package build.rs file to check what features are supported by the Rust compiler."
   ]
  },
  {
   "cell_type": "code",
   "execution_count": 8,
   "metadata": {},
   "outputs": [
    {
     "data": {
      "text/html": [
       "<div>\n",
       "<style scoped>\n",
       "    .dataframe tbody tr th:only-of-type {\n",
       "        vertical-align: middle;\n",
       "    }\n",
       "\n",
       "    .dataframe tbody tr th {\n",
       "        vertical-align: top;\n",
       "    }\n",
       "\n",
       "    .dataframe thead th {\n",
       "        text-align: right;\n",
       "    }\n",
       "</style>\n",
       "<table border=\"1\" class=\"dataframe\">\n",
       "  <thead>\n",
       "    <tr style=\"text-align: right;\">\n",
       "      <th></th>\n",
       "      <th>build</th>\n",
       "      <th>package</th>\n",
       "      <th>version</th>\n",
       "      <th>crate</th>\n",
       "      <th>crate_hash</th>\n",
       "      <th>edition</th>\n",
       "      <th>crate_types</th>\n",
       "    </tr>\n",
       "  </thead>\n",
       "  <tbody>\n",
       "  </tbody>\n",
       "</table>\n",
       "</div>"
      ],
      "text/plain": [
       "Empty DataFrame\n",
       "Columns: [build, package, version, crate, crate_hash, edition, crate_types]\n",
       "Index: []"
      ]
     },
     "execution_count": 8,
     "metadata": {},
     "output_type": "execute_result"
    }
   ],
   "source": [
    "selected_builds.query(\"crate_types == ''\")"
   ]
  },
  {
   "cell_type": "markdown",
   "metadata": {},
   "source": [
    "## Editions"
   ]
  },
  {
   "cell_type": "code",
   "execution_count": 9,
   "metadata": {},
   "outputs": [
    {
     "data": {
      "text/plain": [
       "edition\n",
       "2021    6\n",
       "2018    3\n",
       "2015    1\n",
       "Name: count, dtype: int64"
      ]
     },
     "execution_count": 9,
     "metadata": {},
     "output_type": "execute_result"
    }
   ],
   "source": [
    "selected_builds.edition.value_counts()"
   ]
  },
  {
   "cell_type": "markdown",
   "metadata": {},
   "source": [
    "## `-sys` packages\n",
    "\n",
    "Check what portion of `-sys` crates have matching non`-sys` crates:"
   ]
  },
  {
   "cell_type": "code",
   "execution_count": 10,
   "metadata": {},
   "outputs": [
    {
     "ename": "ZeroDivisionError",
     "evalue": "division by zero",
     "output_type": "error",
     "traceback": [
      "\u001b[0;31m---------------------------------------------------------------------------\u001b[0m",
      "\u001b[0;31mZeroDivisionError\u001b[0m                         Traceback (most recent call last)",
      "Cell \u001b[0;32mIn[10], line 16\u001b[0m\n\u001b[1;32m     13\u001b[0m                 found\u001b[38;5;241m.\u001b[39mappend(crate_name)\n\u001b[1;32m     14\u001b[0m     \u001b[38;5;28mprint\u001b[39m(\u001b[38;5;124m\"\u001b[39m\u001b[38;5;124mPercent of -sys crates that have matching non-sys crates: \u001b[39m\u001b[38;5;132;01m{:.2f}\u001b[39;00m\u001b[38;5;124m%\u001b[39m\u001b[38;5;124m\"\u001b[39m\u001b[38;5;241m.\u001b[39mformat(\n\u001b[1;32m     15\u001b[0m         \u001b[38;5;241m100\u001b[39m\u001b[38;5;241m*\u001b[39m\u001b[38;5;28mlen\u001b[39m(found) \u001b[38;5;241m/\u001b[39m (\u001b[38;5;28mlen\u001b[39m(found)\u001b[38;5;241m+\u001b[39m\u001b[38;5;28mlen\u001b[39m(not_found))))\n\u001b[0;32m---> 16\u001b[0m \u001b[43mcheck_sys_crates\u001b[49m\u001b[43m(\u001b[49m\u001b[43m)\u001b[49m\n",
      "Cell \u001b[0;32mIn[10], line 15\u001b[0m, in \u001b[0;36mcheck_sys_crates\u001b[0;34m()\u001b[0m\n\u001b[1;32m     12\u001b[0m         \u001b[38;5;28;01melse\u001b[39;00m:\n\u001b[1;32m     13\u001b[0m             found\u001b[38;5;241m.\u001b[39mappend(crate_name)\n\u001b[1;32m     14\u001b[0m \u001b[38;5;28mprint\u001b[39m(\u001b[38;5;124m\"\u001b[39m\u001b[38;5;124mPercent of -sys crates that have matching non-sys crates: \u001b[39m\u001b[38;5;132;01m{:.2f}\u001b[39;00m\u001b[38;5;124m%\u001b[39m\u001b[38;5;124m\"\u001b[39m\u001b[38;5;241m.\u001b[39mformat(\n\u001b[0;32m---> 15\u001b[0m     \u001b[38;5;241;43m100\u001b[39;49m\u001b[38;5;241;43m*\u001b[39;49m\u001b[38;5;28;43mlen\u001b[39;49m\u001b[43m(\u001b[49m\u001b[43mfound\u001b[49m\u001b[43m)\u001b[49m\u001b[43m \u001b[49m\u001b[38;5;241;43m/\u001b[39;49m\u001b[43m \u001b[49m\u001b[43m(\u001b[49m\u001b[38;5;28;43mlen\u001b[39;49m\u001b[43m(\u001b[49m\u001b[43mfound\u001b[49m\u001b[43m)\u001b[49m\u001b[38;5;241;43m+\u001b[39;49m\u001b[38;5;28;43mlen\u001b[39;49m\u001b[43m(\u001b[49m\u001b[43mnot_found\u001b[49m\u001b[43m)\u001b[49m\u001b[43m)\u001b[49m))\n",
      "\u001b[0;31mZeroDivisionError\u001b[0m: division by zero"
     ]
    }
   ],
   "source": [
    "# Validation: check that for each `-sys` crate there is one without the suffix.\n",
    "def check_sys_crates():\n",
    "    packages = utils.load_original_crates_list()\n",
    "    assert len(packages[packages.isnull().any(axis=1)]) == 0\n",
    "    all_crate_names = set(packages['package'])\n",
    "    not_found = []\n",
    "    found = []\n",
    "    for crate_name in all_crate_names:\n",
    "        if crate_name.endswith('-sys'):\n",
    "            if crate_name[:-4] not in all_crate_names:\n",
    "                not_found.append(crate_name)\n",
    "            else:\n",
    "                found.append(crate_name)\n",
    "    print(\"Percent of -sys crates that have matching non-sys crates: {:.2f}%\".format(\n",
    "        100*len(found) / (len(found)+len(not_found))))\n",
    "check_sys_crates()"
   ]
  },
  {
   "cell_type": "code",
   "execution_count": null,
   "metadata": {},
   "outputs": [],
   "source": [
    "# Validation: check that for each `-sys` crate there is one wit the same prefix.\n",
    "def check_sys_crates_relaxed():\n",
    "    packages = utils.load_original_crates_list()\n",
    "    assert len(packages[packages.isnull().any(axis=1)]) == 0\n",
    "    all_crate_names = set(packages['package'])\n",
    "    not_found = []\n",
    "    found = []\n",
    "    for crate_name in all_crate_names:\n",
    "        if crate_name.endswith('-sys'):\n",
    "            base_name = crate_name[:-4]\n",
    "            # Quadratic... well\n",
    "            if any(\n",
    "                map(\n",
    "                    lambda x: (\n",
    "                        x != crate_name\n",
    "                        and not x.endswith('-sys')\n",
    "                        and x.startswith(base_name)\n",
    "                    ),\n",
    "                    all_crate_names\n",
    "                )\n",
    "            ):\n",
    "                found.append(crate_name)\n",
    "            else:\n",
    "                not_found.append(crate_name)\n",
    "    print(\"Percent of -sys crates that have relaxed-matching non-sys crates: {:.2f}%\".format(\n",
    "        100*len(found) / (len(found)+len(not_found))))\n",
    "check_sys_crates_relaxed()"
   ]
  },
  {
   "cell_type": "markdown",
   "metadata": {},
   "source": [
    "# Basics about Packages\n",
    "\n",
    "> We evaluated our queries on a dataset that comprises the most-recent version (as of 2020-01-14) of all 34445 packages published on central Rust repository crates.io. The implementation of a package can be composed of multiple crates, one of which is usually primary and determines the name of the package.\n",
    "> We excluded 5459 packages (16%) whose most recent version did not successfully compile.\n",
    "> For packages with conditional compilation features, we used the default flags specified in the manifest.\n",
    "> In cases when a package failed to compile with the default flags, but succeeded with different ones (when compiled as a dependency of another package) we selected a random build for analysis.\n",
    "> As a result, our dataset consists of 31867 crates."
   ]
  },
  {
   "cell_type": "code",
   "execution_count": 11,
   "metadata": {},
   "outputs": [
    {
     "name": "stdout",
     "output_type": "stream",
     "text": [
      "Number of original packages: 10\n",
      "Number of compiling packages: 10 1.0\n",
      "Number of non-compiling packages: 0 0.0\n",
      "Number of crates: 10\n",
      "Number of unique crate names (don't use this number): 10\n"
     ]
    }
   ],
   "source": [
    "print(\"Number of original packages:\", len(utils.load_original_crates_list()))\n",
    "print(\"Number of compiling packages:\", len(selected_builds.package.unique()),\n",
    "      len(selected_builds.package.unique()) / len(utils.load_original_crates_list()))\n",
    "print(\"Number of non-compiling packages:\",\n",
    "      len(utils.load_original_crates_list()) - len(selected_builds.package.unique()),\n",
    "     (len(utils.load_original_crates_list()) - len(selected_builds.package.unique())) / len(utils.load_original_crates_list()))\n",
    "print(\"Number of crates:\", len(selected_builds))\n",
    "print(\"Number of unique crate names (don't use this number):\", len(selected_builds.crate.unique()))"
   ]
  },
  {
   "cell_type": "markdown",
   "metadata": {},
   "source": [
    "> Most of these crates are compiled to Rust libraries, namely 76%, or binaries, namely 20%.\n",
    "The other crates are procedural macros (4%)."
   ]
  },
  {
   "cell_type": "code",
   "execution_count": 12,
   "metadata": {},
   "outputs": [
    {
     "name": "stdout",
     "output_type": "stream",
     "text": [
      "Crates\n",
      "crate_types\n",
      "rlib    10\n",
      "Name: count, dtype: int64\n",
      "\n",
      "Libs: 10 1.0\n",
      "Bin: 0 0.0\n",
      "proc-macro: 0 0.0\n",
      "Others: 0 0.0\n"
     ]
    }
   ],
   "source": [
    "print(\"Crates\")\n",
    "print(selected_builds.crate_types.value_counts())\n",
    "print()\n",
    "print(\"Libs:\",\n",
    "      sum(selected_builds.crate_types.str.contains(\"lib\")),\n",
    "      sum(selected_builds.crate_types.str.contains(\"lib\")) / len(selected_builds)\n",
    ")\n",
    "print(\"Bin:\",\n",
    "      sum(selected_builds.crate_types.str.contains(\"bin\")),\n",
    "      sum(selected_builds.crate_types.str.contains(\"bin\")) / len(selected_builds)\n",
    ")\n",
    "print(\"proc-macro:\",\n",
    "      sum(selected_builds.crate_types.str.contains(\"proc-macro\")),\n",
    "      sum(selected_builds.crate_types.str.contains(\"proc-macro\")) / len(selected_builds)\n",
    ")\n",
    "others = (\n",
    "    ~selected_builds.crate_types.str.contains(\"bin\")\n",
    "    & ~selected_builds.crate_types.str.contains(\"proc-macro\")\n",
    "    & ~selected_builds.crate_types.str.contains(\"lib\")\n",
    ")\n",
    "print(\"Others:\",\n",
    "      sum(others),\n",
    "      sum(others) / len(selected_builds)\n",
    ")"
   ]
  },
  {
   "cell_type": "markdown",
   "metadata": {},
   "source": [
    "## Search for specific crates"
   ]
  },
  {
   "cell_type": "code",
   "execution_count": 13,
   "metadata": {},
   "outputs": [
    {
     "name": "stdout",
     "output_type": "stream",
     "text": [
      "sys crates: 0\n",
      "sys crates (with manual): 12\n"
     ]
    }
   ],
   "source": [
    "from whitelists import *\n",
    "print(\"sys crates:\", len([\n",
    "    x\n",
    "    for x in selected_builds.crate\n",
    "    if x.lower().replace(\"-\", \"_\").endswith(\"_sys\")\n",
    "]))\n",
    "print(\"sys crates (with manual):\", len(get_sys_crate_names(selected_builds.crate.unique())))"
   ]
  },
  {
   "cell_type": "code",
   "execution_count": 14,
   "metadata": {},
   "outputs": [
    {
     "name": "stdout",
     "output_type": "stream",
     "text": [
      "hardware crates 10\n"
     ]
    }
   ],
   "source": [
    "print(\"hardware crates\", len(hardware_crate_names))"
   ]
  },
  {
   "cell_type": "code",
   "execution_count": 16,
   "metadata": {},
   "outputs": [
    {
     "name": "stdout",
     "output_type": "stream",
     "text": [
      "top_500_crates: 500\n",
      "top_500_packages compiling: 10\n",
      "top_500_crates compiling: 10\n",
      "Crates\n",
      "crate_types\n",
      "rlib    10\n",
      "Name: count, dtype: int64\n",
      "\n",
      "Libs: 10 1.0\n",
      "Bin: 0 0.0\n",
      "proc-macro: 0 0.0\n",
      "Others: 0 0.0\n"
     ]
    }
   ],
   "source": [
    "from top_crates import *\n",
    "print(\"top_500_crates:\", len(set(top_500_crates)))\n",
    "\n",
    "def norm(x):\n",
    "    return x.lower().replace(\"-\", \"_\")\n",
    "\n",
    "top_500_compiling_crates = set(map(norm, top_500_crates)) & set(map(norm, selected_builds.package.unique()))\n",
    "top_500_crates_set = set(top_500_crates)\n",
    "top_500_mask = selected_builds.package.map(lambda x: x.replace(\"-\", \"_\") in top_500_crates_set)\n",
    "top_500_builds = selected_builds[top_500_mask][\n",
    "    ~selected_builds[top_500_mask][\"package\"].duplicated()\n",
    "]\n",
    "\n",
    "print(\"top_500_packages compiling:\", len(top_500_compiling_crates))\n",
    "\n",
    "print(\"top_500_crates compiling:\", len(top_500_builds))\n",
    "\n",
    "print(\"Crates\")\n",
    "print(selected_builds.crate_types.value_counts())\n",
    "print()\n",
    "print(\"Libs:\",\n",
    "      sum(top_500_builds.crate_types.str.contains(\"rlib\")),\n",
    "      sum(top_500_builds.crate_types.str.contains(\"rlib\")) / len(selected_builds)\n",
    ")\n",
    "print(\"Bin:\",\n",
    "      sum(top_500_builds.crate_types.str.contains(\"bin\")),\n",
    "      sum(top_500_builds.crate_types.str.contains(\"bin\")) / len(selected_builds)\n",
    ")\n",
    "print(\"proc-macro:\",\n",
    "      sum(top_500_builds.crate_types.str.contains(\"proc-macro\")),\n",
    "      sum(top_500_builds.crate_types.str.contains(\"proc-macro\")) / len(selected_builds)\n",
    ")\n",
    "others = (\n",
    "    ~top_500_builds.crate_types.str.contains(\"bin\")\n",
    "    & ~top_500_builds.crate_types.str.contains(\"proc-macro\")\n",
    "    & ~top_500_builds.crate_types.str.contains(\"rlib\")\n",
    ")\n",
    "print(\"Others:\",\n",
    "      sum(others),\n",
    "      sum(others) / len(top_500_builds)\n",
    ")"
   ]
  }
 ],
 "metadata": {
  "kernelspec": {
   "display_name": "Python 3 (ipykernel)",
   "language": "python",
   "name": "python3"
  },
  "language_info": {
   "codemirror_mode": {
    "name": "ipython",
    "version": 3
   },
   "file_extension": ".py",
   "mimetype": "text/x-python",
   "name": "python",
   "nbconvert_exporter": "python",
   "pygments_lexer": "ipython3",
   "version": "3.11.6"
  }
 },
 "nbformat": 4,
 "nbformat_minor": 4
}
