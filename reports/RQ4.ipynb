{
 "cells": [
  {
   "cell_type": "markdown",
   "metadata": {},
   "source": [
    "# RQ 4 (Encapsulation)\n",
    "\n",
    ">  Is unsafe code typically shielded from clients through safe abstractions?\n"
   ]
  },
  {
   "cell_type": "markdown",
   "metadata": {},
   "source": [
    "## Setup"
   ]
  },
  {
   "cell_type": "code",
   "execution_count": 1,
   "metadata": {},
   "outputs": [],
   "source": [
    "# import libraries\n",
    "import itertools\n",
    "import functools\n",
    "import numpy as np\n",
    "import pandas as pd\n",
    "import matplotlib.pyplot as plt\n",
    "from sklearn import tree\n",
    "\n",
    "import utils\n",
    "import top_crates\n",
    "from whitelists import *\n",
    "from drawing import *\n",
    "\n",
    "# Configure pyplot: enlarge plots \n",
    "plt.rcParams['figure.figsize'] = [15, 8]\n",
    "# Configure pandas: show all columns when printing a dataframe\n",
    "pd.set_option('display.max_columns', None)\n",
    "# Configure pandas: show more rows when printing a dataframe\n",
    "pd.set_option('display.min_rows', 20)"
   ]
  },
  {
   "cell_type": "code",
   "execution_count": 2,
   "metadata": {},
   "outputs": [],
   "source": [
    "# Load tables\n",
    "function_definitions = utils.load_selected_function_definitions()\n",
    "selected_builds = utils.load_selected_builds()\n",
    "\n",
    "# Preprocessing\n",
    "unsafe_function_definitions = function_definitions[function_definitions.unsafety == \"Unsafe\"].copy()"
   ]
  },
  {
   "cell_type": "code",
   "execution_count": 3,
   "metadata": {},
   "outputs": [],
   "source": [
    "# Validation\n",
    "assert function_definitions[function_definitions.unsafety == \"Unknown\"].abi.unique() == [\"Closure\"]"
   ]
  },
  {
   "cell_type": "code",
   "execution_count": 4,
   "metadata": {},
   "outputs": [],
   "source": [
    "# Whitelists\n",
    "all_function_names = function_definitions.def_path.unique()"
   ]
  },
  {
   "cell_type": "markdown",
   "metadata": {},
   "source": [
    "## Query 6\n",
    "\n",
    "> We then count *how many unsafe functions are (1) declared private, (2) visible within their crate,\n",
    "and (3) visible to other crates.*\n",
    "\n",
    "#### Results from the paper for comparison (Table 2)\n",
    "\n",
    "|Visibility| #functions      |    %  |\n",
    "| ------------- |--------------|-------|\n",
    "| Private       | 65,230       |  11.7 |\n",
    "| Restricted    | 1,535        |   0.3 |\n",
    "| Public        | 489,928      |  87.9 |"
   ]
  },
  {
   "cell_type": "code",
   "execution_count": 6,
   "metadata": {},
   "outputs": [],
   "source": [
    "def print_sym_difference(df_a, df_b):\n",
    "    print(\"Symmetric difference:\")\n",
    "    list_a = set(df_a.def_path.unique())\n",
    "    list_b = set(df_b.def_path.unique())\n",
    "\n",
    "    # also print whether an element is only in set a or set b\n",
    "    for element in list_a.symmetric_difference(list_b):\n",
    "        if element in list_a:\n",
    "            print(f\"Only in list a: {element}\")\n",
    "            print(f\"  {df_a[df_a.def_path == element]}\")\n",
    "        else:\n",
    "            print(f\"Only in list b: {element}\")\n",
    "            print(f\"  {df_b[df_b.def_path == element].visibility}\")"
   ]
  },
  {
   "cell_type": "code",
   "execution_count": 7,
   "metadata": {},
   "outputs": [
    {
     "name": "stdout",
     "output_type": "stream",
     "text": [
      "unsafe_function_definitions: 1369\n",
      "Symmetric difference:\n",
      "Only in list b: memchr[ef9f]::vector::Vector::movemask_will_have_non_zero\n",
      "  1693    Restricted\n",
      "Name: visibility, dtype: object\n",
      "Only in list b: lock_api[16d0]::mutex::RawMutexFair::bump\n",
      "  169    Public\n",
      "Name: visibility, dtype: object\n",
      "Only in list b: lock_api[16d0]::rwlock::RawRwLockFair::bump_shared\n",
      "  268    Public\n",
      "Name: visibility, dtype: object\n",
      "Only in list b: lock_api[16d0]::rwlock::RawRwLockUpgradeFair::bump_upgradable\n",
      "  270    Public\n",
      "Name: visibility, dtype: object\n",
      "Only in list b: lock_api[16d0]::rwlock::RawRwLockFair::bump_exclusive\n",
      "  269    Public\n",
      "Name: visibility, dtype: object\n"
     ]
    },
    {
     "ename": "AssertionError",
     "evalue": "",
     "output_type": "error",
     "traceback": [
      "\u001b[0;31m---------------------------------------------------------------------------\u001b[0m",
      "\u001b[0;31mAssertionError\u001b[0m                            Traceback (most recent call last)",
      "Cell \u001b[0;32mIn[7], line 7\u001b[0m\n\u001b[1;32m      5\u001b[0m trait_unsafe_function_definitions \u001b[38;5;241m=\u001b[39m unsafe_function_definitions[unsafe_function_definitions\u001b[38;5;241m.\u001b[39mis_trait_item]\n\u001b[1;32m      6\u001b[0m print_sym_difference(unknonwn_unsafe_function_definitions, trait_unsafe_function_definitions)\n\u001b[0;32m----> 7\u001b[0m \u001b[38;5;28;01massert\u001b[39;00m (unsafe_function_definitions\u001b[38;5;241m.\u001b[39mvisibility \u001b[38;5;241m==\u001b[39m \u001b[38;5;124m\"\u001b[39m\u001b[38;5;124mUnknown\u001b[39m\u001b[38;5;124m\"\u001b[39m)\u001b[38;5;241m.\u001b[39mequals(unsafe_function_definitions\u001b[38;5;241m.\u001b[39mis_trait_item)\n\u001b[1;32m      9\u001b[0m \u001b[38;5;28mprint\u001b[39m(\u001b[38;5;124m\"\u001b[39m\u001b[38;5;124mThe \u001b[39m\u001b[38;5;124m'\u001b[39m\u001b[38;5;124mUnknown\u001b[39m\u001b[38;5;124m'\u001b[39m\u001b[38;5;124m are trait methods\u001b[39m\u001b[38;5;124m\"\u001b[39m)\n\u001b[1;32m     10\u001b[0m unsafe_function_definitions\u001b[38;5;241m.\u001b[39mvisibility\u001b[38;5;241m.\u001b[39mvalue_counts()\n",
      "\u001b[0;31mAssertionError\u001b[0m: "
     ]
    }
   ],
   "source": [
    "print(\"unsafe_function_definitions:\", len(unsafe_function_definitions))\n",
    "\n",
    "# In our dataset the 'Unknown' rows coincide with the trait items\n",
    "unknonwn_unsafe_function_definitions = unsafe_function_definitions[unsafe_function_definitions.visibility == \"Unknown\"]\n",
    "trait_unsafe_function_definitions = unsafe_function_definitions[unsafe_function_definitions.is_trait_item]\n",
    "print_sym_difference(unknonwn_unsafe_function_definitions, trait_unsafe_function_definitions)\n",
    "assert (unsafe_function_definitions.visibility == \"Unknown\").equals(unsafe_function_definitions.is_trait_item)\n",
    "\n",
    "print(\"The 'Unknown' are trait methods\")\n",
    "unsafe_function_definitions.visibility.value_counts()"
   ]
  },
  {
   "cell_type": "code",
   "execution_count": 6,
   "metadata": {},
   "outputs": [
    {
     "name": "stdout",
     "output_type": "stream",
     "text": [
      "Total number of unsafe functions: 557380\n",
      "Total number of trait-method unsafe functions: 687 (0.123255%)\n",
      "Total number of non-trait-method unsafe functions:556693 (99.876745%)\n",
      "is_public        489928\n",
      "is_private        65230\n",
      "is_restricted      1535\n",
      "dtype: int64\n",
      "is_public        88.006855\n",
      "is_private       11.717410\n",
      "is_restricted     0.275735\n",
      "dtype: float64\n"
     ]
    },
    {
     "data": {
      "image/png": "[encoded data removed]",
      "text/plain": [
       "<Figure size 1080x576 with 1 Axes>"
      ]
     },
     "metadata": {
      "needs_background": "light"
     },
     "output_type": "display_data"
    }
   ],
   "source": [
    "# Visibility of functions\n",
    "unsafe_function_definitions[\"is_private\"] = unsafe_function_definitions.visibility == \"Private\"\n",
    "unsafe_function_definitions[\"is_restricted\"] = unsafe_function_definitions.visibility.isin(set([\"Crate\", \"Restricted\"]))\n",
    "unsafe_function_definitions[\"is_public\"] = unsafe_function_definitions.visibility == \"Public\"\n",
    "\n",
    "unsafe_function_definitions[\"is_private_or_restricted\"] = unsafe_function_definitions.is_private | unsafe_function_definitions.is_restricted\n",
    "\n",
    "feature_names = [\n",
    "    \"is_private\",\n",
    "    \"is_restricted\",\n",
    "    \"is_public\",\n",
    "]\n",
    "\n",
    "num_trait_methods = sum(unsafe_function_definitions.is_trait_item)\n",
    "num_non_trait_methods = sum(~unsafe_function_definitions.is_trait_item)\n",
    "\n",
    "# Validation: there are no trait methods left\n",
    "assert sum([sum(unsafe_function_definitions[f]) for f in feature_names]) == num_non_trait_methods\n",
    "assert len(unsafe_function_definitions) == num_trait_methods + num_non_trait_methods\n",
    "\n",
    "print(\"Total number of unsafe functions:\", len(unsafe_function_definitions))\n",
    "print(\"Total number of trait-method unsafe functions: {} ({:%})\".format(\n",
    "    num_trait_methods, num_trait_methods/len(unsafe_function_definitions))\n",
    ")\n",
    "print(\"Total number of non-trait-method unsafe functions:{} ({:%})\".format(\n",
    "    num_non_trait_methods, num_non_trait_methods/len(unsafe_function_definitions))\n",
    ")\n",
    "\n",
    "features_frequency = unsafe_function_definitions[feature_names].apply(sum).sort_values(ascending=False)\n",
    "features_frequency.plot.bar(title=\"Visibility of unsafe functions\")\n",
    "print(features_frequency)\n",
    "print(features_frequency/num_non_trait_methods * 100)"
   ]
  },
  {
   "cell_type": "markdown",
   "metadata": {},
   "source": [
    "## Follow-up 1\n",
    "\n",
    "> The results are depicted in Fig. 9. Based on this updated metric, we get a clearer picture: most crates (78.5%) have either all or none of their unsafe functions declared public. In particular, 34.7% of all crates seem to be well encapsulated: they declare unsafe functions but none of them are visible from the outside.\n",
    "\n",
    "Fig.9:\n",
    "\n",
    "![Fig.9](pics/rq4-distribution.png)"
   ]
  },
  {
   "cell_type": "code",
   "execution_count": 7,
   "metadata": {},
   "outputs": [],
   "source": [
    "public_unsafe_function_counts = dict(\n",
    "    unsafe_function_definitions.query('is_public').build.value_counts().iteritems())\n",
    "non_public_unsafe_function_counts = dict(unsafe_function_definitions.query('is_private_or_restricted').build.value_counts().iteritems())\n",
    "unsafe_function_proportions = []\n",
    "for (_, row) in selected_builds.iterrows():\n",
    "    build = row['build']\n",
    "    public_count = public_unsafe_function_counts.get(build) or 0\n",
    "    non_public_count = non_public_unsafe_function_counts.get(build) or 0\n",
    "    count = (non_public_count+public_count)\n",
    "    if count > 0:\n",
    "        row[\"public_count\"] = public_count\n",
    "        row[\"non_public_count\"] = non_public_count\n",
    "        row[\"total\"] = count\n",
    "        row[\"public_proportion\"] = public_count/count\n",
    "        unsafe_function_proportions.append(row)\n",
    "unsafe_function_proportions = pd.DataFrame(data=unsafe_function_proportions)"
   ]
  },
  {
   "cell_type": "code",
   "execution_count": 8,
   "metadata": {
    "scrolled": true
   },
   "outputs": [
    {
     "data": {
      "image/png": "[encoded data removed]",
      "text/plain": [
       "<Figure size 1080x576 with 1 Axes>"
      ]
     },
     "metadata": {
      "needs_background": "light"
     },
     "output_type": "display_data"
    }
   ],
   "source": [
    "ax = unsafe_function_proportions.public_proportion.plot.hist(\n",
    " bins=100,\n",
    " linewidth=4,\n",
    " fontsize=26,\n",
    ")\n",
    "ax.title.set_size(20)\n",
    "ax.set_xlabel(\"Proportion of unsafe functions declared public\", fontsize=32)\n",
    "ax.set_ylabel(\"Number of crates\", fontsize=32)\n",
    "ax.set_axisbelow(True)\n",
    "ax.grid(True, linestyle='dotted')\n",
    "plt.show()"
   ]
  },
  {
   "cell_type": "markdown",
   "metadata": {},
   "source": [
    "> Moreover, 43.8% of crates declare all of their unsafe functions public;"
   ]
  },
  {
   "cell_type": "code",
   "execution_count": 9,
   "metadata": {},
   "outputs": [
    {
     "name": "stdout",
     "output_type": "stream",
     "text": [
      "1486 (34.7196261682243%) builds (of 4280) with unsafe functions have no public unsafe functions\n",
      "1873 (43.76168224299065%) builds (of 4280) with unsafe functions have only public unsafe function\n",
      "3359 (78.48130841121495%) builds (of 4280) with unsafe functions have either all unsafe function private or public\n"
     ]
    }
   ],
   "source": [
    "# Proportions:\n",
    "non_public_dominated_builds = set(\n",
    "    unsafe_function_proportions.query(\"public_count == 0\").build)\n",
    "non_public_dominated_builds_count = len(non_public_dominated_builds)\n",
    "print(\"{} ({}%) builds (of {}) with unsafe functions have no public unsafe functions\".format(\n",
    "    non_public_dominated_builds_count,\n",
    "    100*non_public_dominated_builds_count/len(unsafe_function_proportions),\n",
    "    len(unsafe_function_proportions)\n",
    "))\n",
    "public_dominated_builds = set(\n",
    "    unsafe_function_proportions.query(\"non_public_count == 0\").build)\n",
    "public_dominated_builds_count = len(public_dominated_builds)\n",
    "print(\"{} ({}%) builds (of {}) with unsafe functions have only public unsafe function\".format(\n",
    "    public_dominated_builds_count,\n",
    "    100*public_dominated_builds_count/len(unsafe_function_proportions),\n",
    "    len(unsafe_function_proportions)\n",
    "))\n",
    "assert len(unsafe_function_proportions.query(\"non_public_count == 0 and public_count == 0\")) == 0\n",
    "dominated_builds_count = non_public_dominated_builds_count + public_dominated_builds_count\n",
    "print(\"{} ({}%) builds (of {}) with unsafe functions have either all unsafe function private or public\".format(\n",
    "    dominated_builds_count,\n",
    "    100*dominated_builds_count/len(unsafe_function_proportions),\n",
    "    len(unsafe_function_proportions)\n",
    "))"
   ]
  },
  {
   "cell_type": "markdown",
   "metadata": {},
   "source": [
    "## Follow-up 2\n",
    "\n",
    "> more precisely, these crates contain 274434 (49.2%) unsafe functions."
   ]
  },
  {
   "cell_type": "code",
   "execution_count": 10,
   "metadata": {
    "scrolled": true
   },
   "outputs": [
    {
     "name": "stdout",
     "output_type": "stream",
     "text": [
      "The public dominated tower contains 274434 (49.23642757185403%) from 557380 unsafe functions\n"
     ]
    }
   ],
   "source": [
    "# Unsafe functions from the public dominated tower.\n",
    "public_unsafe_functions = unsafe_function_definitions[\n",
    "    unsafe_function_definitions[\"build\"].isin(public_dominated_builds)\n",
    "].query(\"not is_trait_item\")\n",
    "assert len(public_unsafe_functions) > 0, len(public_unsafe_functions)\n",
    "assert len(public_unsafe_functions.query(\"not is_public\")) == 0, len(public_unsafe_functions.query(\"not is_public\"))\n",
    "public_unsafe_functions_count = len(public_unsafe_functions)\n",
    "print(\"The public dominated tower contains {} ({}%) from {} unsafe functions\".format(\n",
    "      public_unsafe_functions_count,\n",
    "      100*public_unsafe_functions_count/len(unsafe_function_definitions),\n",
    "      len(unsafe_function_definitions),\n",
    "))"
   ]
  },
  {
   "cell_type": "markdown",
   "metadata": {},
   "source": [
    "> We found that 163,650 (59.6%) have foreign item ABI, which means that they are bindings of foreign items (most likely C functions). We also found that 571 (0.2%) functions have C ABI, which means that they can be called from C code and, therefore, it makes sense to have them public. The vast majority of the remaining functions (110,212 or 40.2%) have Rust ABI and, therefore, it is hard to automatically tell whether they are bindings or not."
   ]
  },
  {
   "cell_type": "code",
   "execution_count": 11,
   "metadata": {},
   "outputs": [],
   "source": [
    "def show_abi_counts(functions, total_count):\n",
    "    abi_counts = functions.abi.value_counts()\n",
    "    print(\"Counts:\")\n",
    "    print(abi_counts)\n",
    "    print()\n",
    "    print(\"Proportions:\")\n",
    "    print(abi_counts/len(functions) * 100)\n",
    "    print()\n",
    "    print(\"Of all:\")\n",
    "    print(abi_counts/total_count * 100)"
   ]
  },
  {
   "cell_type": "code",
   "execution_count": 12,
   "metadata": {},
   "outputs": [
    {
     "name": "stdout",
     "output_type": "stream",
     "text": [
      "Counts:\n",
      "ForeignItem    163650\n",
      "Rust           110212\n",
      "C                 571\n",
      "system              1\n",
      "Name: abi, dtype: int64\n",
      "\n",
      "Proportions:\n",
      "ForeignItem    59.631824\n",
      "Rust           40.159747\n",
      "C               0.208065\n",
      "system          0.000364\n",
      "Name: abi, dtype: float64\n",
      "\n",
      "Of all:\n",
      "ForeignItem    59.631824\n",
      "Rust           40.159747\n",
      "C               0.208065\n",
      "system          0.000364\n",
      "Name: abi, dtype: float64\n"
     ]
    }
   ],
   "source": [
    "# Show ABIs of the public dominated tower\n",
    "show_abi_counts(public_unsafe_functions, public_unsafe_functions_count)\n",
    "# Keep only Rust ABI\n",
    "public_rust_unsafe_functions = public_unsafe_functions.query(\"abi == 'Rust'\")"
   ]
  },
  {
   "cell_type": "markdown",
   "metadata": {},
   "source": [
    "## Follow-up 3\n",
    "\n",
    "> Therefore, we checked the meta information of the crates that contain these functions and found that 9,642 (3.5%) are assigned to categories that indicate them as crates that wrap system libraries and 49,363 (18.0%) are assigned to categories related to embedded programming."
   ]
  },
  {
   "cell_type": "code",
   "execution_count": 13,
   "metadata": {},
   "outputs": [],
   "source": [
    "unsafe_function_spans = utils.load_unsafe_function_spans()\n",
    "categories = utils.load_categories()"
   ]
  },
  {
   "cell_type": "code",
   "execution_count": 14,
   "metadata": {
    "scrolled": true
   },
   "outputs": [],
   "source": [
    "# We collected this list by manually checking all categories.\n",
    "ffi = [\n",
    "    \"external-ffi-bindings\",\n",
    "    \"ffi\",\n",
    "    \"libffi\",\n",
    "    \"ffi-bindings\",\n",
    "    \"cffi\",\n",
    "    \"ffistrings\",\n",
    "    \"api bindings\",\n",
    "    \"api-bindings\",\n",
    "    \"bindings\",\n",
    "    \"ffi-bindings\",\n",
    "    \"api-bindings\",\n",
    "]\n",
    "ffi_builds = set(categories[categories['category'].isin(ffi)].build)\n",
    "\n",
    "embedded = [\n",
    "    \"arm\",\n",
    "    \"cortex-m\",\n",
    "    \"embedded\",\n",
    "    \"ESP32\",\n",
    "    \"Embedded development\",\n",
    "]\n",
    "embedded_builds = set(categories[categories['category'].isin(embedded)].build)\n",
    "def check(name, suffix):\n",
    "    return name.lower().replace('-', '_').endswith(suffix)\n",
    "sys_package_names = set([\n",
    "    x for x in unsafe_function_spans.package_name.unique()\n",
    "    if check(x, \"_sys\") or\n",
    "       check(x, \"_bindgen\") or\n",
    "       check(x, \"_ffi\") or\n",
    "       check(x, \"_bindings\")\n",
    "])\n",
    "\n",
    "def report_counts(fns, total_count):\n",
    "    ffi_build_count = len(fns[\n",
    "        fns['build'].isin(ffi_builds)\n",
    "        | fns['package_name'].isin(sys_package_names)\n",
    "    ])\n",
    "    print('FFI:', ffi_build_count, ' or ', ffi_build_count/total_count*100, '%')\n",
    "\n",
    "    embedded_build_count = len(fns[fns['build'].isin(embedded_builds)])\n",
    "    print('embedded:', embedded_build_count,\n",
    "          ' or ', embedded_build_count/total_count*100, '%')\n",
    "\n",
    "    ffi_and_embedded_build_count = len(fns[\n",
    "        fns['build'].isin(embedded_builds) &\n",
    "        (fns['build'].isin(ffi_builds) |\n",
    "        fns['package_name'].isin(sys_package_names))\n",
    "    ])\n",
    "    print('embedded and FFI:', ffi_and_embedded_build_count,\n",
    "          ' or ', ffi_and_embedded_build_count/total_count*100, '%')\n",
    "\n",
    "    ffi_or_embedded_build_count = len(fns[\n",
    "        fns['build'].isin(embedded_builds) |\n",
    "        fns['build'].isin(ffi_builds) |\n",
    "        fns['package_name'].isin(sys_package_names)\n",
    "    ])\n",
    "    print('embedded or FFI:', ffi_or_embedded_build_count,\n",
    "          ' or ', ffi_or_embedded_build_count/total_count*100, '%')\n",
    "\n",
    "    fns = fns[\n",
    "        (~fns['build'].isin(ffi_builds)) &\n",
    "        (~fns['package_name'].isin(sys_package_names)) &\n",
    "        (~fns['build'].isin(embedded_builds))\n",
    "    ]\n",
    "    print(\"remaining:\", len(fns))\n",
    "    \n",
    "    return fns"
   ]
  },
  {
   "cell_type": "code",
   "execution_count": 15,
   "metadata": {},
   "outputs": [
    {
     "name": "stdout",
     "output_type": "stream",
     "text": [
      "FFI: 9642  or  3.5134130610638623 %\n",
      "embedded: 49363  or  17.987202751845615 %\n",
      "embedded and FFI: 4  or  0.0014575453478796359 %\n",
      "embedded or FFI: 59001  or  21.4991582675616 %\n",
      "remaining: 51211\n"
     ]
    }
   ],
   "source": [
    "public_rust_unsafe_function_spans = unsafe_function_spans[\n",
    "    unsafe_function_spans[\"build\"].isin(public_dominated_builds)\n",
    "].query(\"abi=='Rust' and visibility=='Public'\")\n",
    "\n",
    "assert len(public_rust_unsafe_functions) == len(public_rust_unsafe_function_spans)\n",
    "\n",
    "remaining_public_unsafe_functions = report_counts(\n",
    "    public_rust_unsafe_function_spans, public_unsafe_functions_count)"
   ]
  },
  {
   "cell_type": "markdown",
   "metadata": {},
   "source": [
    "## Follow-up 4"
   ]
  },
  {
   "cell_type": "markdown",
   "metadata": {},
   "source": [
    "> Finally, we manually reviewed 30 crates from the remaining\n",
    "list that have most unsafe functions (in total 41,063 functions\n",
    "or 15.0%) and found that they either provide APIs to microcontrollers or OpenGL bindings. After our analysis we are left with\n",
    "only 10,148 functions (or 3.7%) that are public and which may not be from the crates that provide bindings."
   ]
  },
  {
   "cell_type": "markdown",
   "metadata": {},
   "source": [
    "Review comments:\n",
    "\n",
    "* `gdnative-*` – Rust bindings for GDNative.\n",
    "* Packages with unpronouncable names typically provide APIs for some microcontrolers: `cc13x2-cc26x2-pac`, `cc13x2-cc26x2-hal`, `oxcc-stm32f767`, `stm32f469xx`, `stm32wb-pac`, `cc2538`, `xmc4800`, `xmc4700`, `efr32xg1`, `xmc4500`, `alt-sam3x8e`, `nrf52840-pac`, `stm32l432-pac`, `stm32l4x2-pac`, `xmc4400`, `lpc177x_8x`, `xmc4300`, `stm32f103xx`, `xmc4100`, `xmc4200`, `nrf52832-pac`, `nrf52`, `stm32f072x-memory-map`, `atsame54p20a`.\n",
    "  * All `xmc*` packages are generated by the same author.\n",
    "* `gleam`, `sparkle`, `epoxy`, `grr`, `glow`, `gfx_gl`, `ogl33`, `gles30` – OpenGL bindings\n",
    "* `core`, `core_arch` – part of the standard library\n",
    "* `mallumo-gls` – mostly safe OpenGl bindings, but also exposes raw bindings in the `raw` module\n",
    "* `rg3d`, `surfman` – OpenGL bindings. Note: public unsafe functions are inside a private module.\n",
    "* `ioctls` – IO control bindings.\n",
    "* `ico_math` – exposes raw SSE extensions."
   ]
  },
  {
   "cell_type": "code",
   "execution_count": 16,
   "metadata": {},
   "outputs": [
    {
     "name": "stdout",
     "output_type": "stream",
     "text": [
      "0 4267 https://crates.io/crates/cc13x2-cc26x2-pac\n",
      "1 4267 https://crates.io/crates/cc13x2-cc26x2-hal\n",
      "2 3149 https://crates.io/crates/oxcc-stm32f767\n",
      "3 2644 https://crates.io/crates/stm32f469xx\n",
      "4 1771 https://crates.io/crates/sparkle\n",
      "5 1737 https://crates.io/crates/stm32wb-pac\n",
      "6 1625 https://crates.io/crates/epoxy\n",
      "7 1325 https://crates.io/crates/cc2538\n",
      "8 1296 https://crates.io/crates/xmc4800\n",
      "9 1295 https://crates.io/crates/xmc4700\n",
      "10 1228 https://crates.io/crates/efr32xg1\n",
      "11 1168 https://crates.io/crates/xmc4500\n",
      "12 1146 https://crates.io/crates/alt-sam3x8e\n",
      "13 1072 https://crates.io/crates/nrf52840-pac\n",
      "14 1068 https://crates.io/crates/stm32l432-pac\n",
      "15 1068 https://crates.io/crates/stm32l4x2-pac\n",
      "16 1060 https://crates.io/crates/xmc4400\n",
      "17 1017 https://crates.io/crates/lpc177x_8x\n",
      "18 984 https://crates.io/crates/xmc4300\n",
      "19 881 https://crates.io/crates/stm32f103xx\n",
      "20 873 https://crates.io/crates/xmc4200\n",
      "21 873 https://crates.io/crates/xmc4100\n",
      "22 867 https://crates.io/crates/nrf52832-pac\n",
      "23 866 https://crates.io/crates/nrf52\n",
      "24 825 https://crates.io/crates/mallumo-gls\n",
      "25 703 https://crates.io/crates/gfx_gl\n",
      "26 589 https://crates.io/crates/ioctls\n",
      "27 525 https://crates.io/crates/atsame54p20a\n",
      "28 437 https://crates.io/crates/atsamd51j20a\n",
      "29 437 https://crates.io/crates/atsamd51j19a\n",
      "41063\n",
      "The number of functions: 41063\n",
      "Percentage (of all non-trait-method functions): 14.962796154995372 %\n",
      "Remaining: 10148\n",
      "Percentage (of all non-trait-method functions): 3.6977925475706366 %\n"
     ]
    }
   ],
   "source": [
    "s = 0\n",
    "array = []\n",
    "for n, v in remaining_public_unsafe_functions.package_name.value_counts().iteritems():\n",
    "    s += v\n",
    "    print(len(array), v, 'https://crates.io/crates/' + n)\n",
    "    array.append(n)\n",
    "    if len(array) == 30:\n",
    "        print(s)\n",
    "        break\n",
    "\n",
    "print(\"The number of functions:\", s)\n",
    "print(\"Percentage (of all non-trait-method functions):\", s/public_unsafe_functions_count*100, \"%\")\n",
    "print(\"Remaining:\", len(remaining_public_unsafe_functions)-s)\n",
    "print(\"Percentage (of all non-trait-method functions):\",\n",
    "      (len(remaining_public_unsafe_functions)-s)/public_unsafe_functions_count*100, \"%\")"
   ]
  }
 ],
 "metadata": {
  "kernelspec": {
   "display_name": "Python 3 (ipykernel)",
   "language": "python",
   "name": "python3"
  },
  "language_info": {
   "codemirror_mode": {
    "name": "ipython",
    "version": 3
   },
   "file_extension": ".py",
   "mimetype": "text/x-python",
   "name": "python",
   "nbconvert_exporter": "python",
   "pygments_lexer": "ipython3",
   "version": "3.11.6"
  }
 },
 "nbformat": 4,
 "nbformat_minor": 4
}
