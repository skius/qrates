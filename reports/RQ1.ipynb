{
 "cells": [
  {
   "cell_type": "markdown",
   "metadata": {},
   "source": [
    "# RQ 1 (Frequency)\n",
    "\n",
    "> How often does unsafe code appear explicitly in Rust crates?"
   ]
  },
  {
   "cell_type": "markdown",
   "metadata": {},
   "source": [
    "## Setup"
   ]
  },
  {
   "cell_type": "code",
   "execution_count": 11,
   "metadata": {},
   "outputs": [
    {
     "name": "stdout",
     "output_type": "stream",
     "text": [
      "Requirement already satisfied: plotly in /opt/conda/lib/python3.11/site-packages (5.24.1)\n",
      "Requirement already satisfied: tenacity>=6.2.0 in /opt/conda/lib/python3.11/site-packages (from plotly) (9.0.0)\n",
      "Requirement already satisfied: packaging in /opt/conda/lib/python3.11/site-packages (from plotly) (23.2)\n"
     ]
    }
   ],
   "source": [
    "!pip install plotly"
   ]
  },
  {
   "cell_type": "code",
   "execution_count": 12,
   "metadata": {},
   "outputs": [],
   "source": [
    "# import libraries\n",
    "import itertools\n",
    "import functools\n",
    "import numpy as np\n",
    "import pandas as pd\n",
    "import matplotlib.pyplot as plt\n",
    "from sklearn import tree\n",
    "\n",
    "import utils\n",
    "import top_crates\n",
    "from whitelists import *\n",
    "from drawing import *\n",
    "\n",
    "# Configure pyplot: enlarge plots \n",
    "plt.rcParams['figure.figsize'] = [15, 8]\n",
    "# Configure pandas: show all columns when printing a dataframe\n",
    "pd.set_option('display.max_columns', None)\n",
    "# Configure pandas: show more rows when printing a dataframe\n",
    "pd.set_option('display.min_rows', 20)"
   ]
  },
  {
   "cell_type": "code",
   "execution_count": 13,
   "metadata": {},
   "outputs": [
    {
     "data": {
      "text/plain": [
       "<module 'utils' from '/home/jovyan/reports/utils.py'>"
      ]
     },
     "execution_count": 13,
     "metadata": {},
     "output_type": "execute_result"
    }
   ],
   "source": [
    "import importlib\n",
    "importlib.reload(utils)"
   ]
  },
  {
   "cell_type": "code",
   "execution_count": 14,
   "metadata": {},
   "outputs": [],
   "source": [
    "# Load tables\n",
    "selected_builds = utils.load_selected_builds()\n",
    "unsafe_blocks = utils.load_unsafe_blocks()\n",
    "traits = utils.load_selected_traits()\n",
    "traits_impls = utils.load_selected_impl_definitions()\n",
    "function_definitions = utils.load_selected_function_definitions()\n",
    "\n",
    "unsafe_thir_blocks = utils.load_unsafe_thir_blocks()\n",
    "function_definitions_thir = utils.load_selected_function_definitions_thir_counts()\n"
   ]
  },
  {
   "cell_type": "code",
   "execution_count": 15,
   "metadata": {},
   "outputs": [],
   "source": [
    "# Validation\n",
    "# assert len(selected_builds) > 20000\n",
    "assert selected_builds.build.is_unique"
   ]
  },
  {
   "cell_type": "code",
   "execution_count": 10,
   "metadata": {},
   "outputs": [
    {
     "name": "stdout",
     "output_type": "stream",
     "text": [
      "['aho_corasick', 'autocfg', 'autocfg_eff1044938ffcaf9_0', 'base64', 'bitflags', 'bytes', 'cc', 'cfg_if', 'either', 'getrandom', 'hashbrown', 'heck', 'indexmap', 'itertools', 'itoa', 'lazy_static', 'libc', 'lock_api', 'log', 'memchr', 'num_traits', 'once_cell', 'parking_lot', 'parking_lot_core', 'proc_macro2', 'quote', 'regex', 'regex_automata', 'regex_syntax', 'ryu', 'scopeguard', 'semver', 'serde', 'serde_derive', 'serde_json', 'smallvec', 'socket2', 'strsim', 'syn', 'thiserror', 'thiserror_impl', 'time', 'unicode_ident', 'version_check']\n"
     ]
    }
   ],
   "source": [
    "# Preprocessing\n",
    "crates = pd.DataFrame({\n",
    "    \"crate\": selected_builds.crate,\n",
    "    \"crate_hash\": selected_builds.crate_hash,\n",
    "    \"package\": selected_builds.package.map(lambda x: str(x).lower().replace(\"-\", \"_\")),\n",
    "})\n",
    "print(sorted(list(crates['crate'])))\n",
    "user_written_unsafe_blocks = unsafe_blocks[unsafe_blocks.check_mode == \"UnsafeBlockUserProvided\"]\n",
    "unsafe_function_definitions = function_definitions[function_definitions.unsafety == \"Unsafe\"]\n",
    "unsafe_traits = traits[traits.unsafety == \"Unsafe\"]\n",
    "unsafe_traits_impls = traits_impls[traits_impls.unsafety == \"Unsafe\"]\n",
    "\n",
    "## THIR\n",
    "user_written_unsafe_thir_blocks = unsafe_thir_blocks[unsafe_thir_blocks.check_mode == \"UnsafeBlockUserProvided\"]\n",
    "unsafe_function_definitions_thir = function_definitions_thir[function_definitions_thir.unsafety == \"Unsafe\"]\n",
    "\n",
    "\n",
    "# Validation\n",
    "# assert len(user_written_unsafe_blocks) > 0"
   ]
  },
  {
   "cell_type": "markdown",
   "metadata": {},
   "source": [
    "## Query 1\n",
    "\n",
    "> Table 1 shows in both absolute and relative numbers how many crates contain unsafe code, and which unsafe features they use (our first query)\n",
    "\n",
    "#### Results from the paper for comparison (Table 1)\n",
    "\n",
    "| Unsafe Feature| #crates      |    %  |\n",
    "| ------------- |--------------|-------|\n",
    "| None          | 24,360       |  76.4 |\n",
    "| Any           | 7,507        |  23.6 |\n",
    "| Blocks        | 6,414        |  20.1 |\n",
    "| Function Declarations| 4,287        |  13.5 |\n",
    "| Trait Implementations| 1,591        |  5.0 |\n",
    "| Trait Declarations| 280        |  0.9 |"
   ]
  },
  {
   "cell_type": "code",
   "execution_count": 7,
   "metadata": {},
   "outputs": [
    {
     "name": "stdout",
     "output_type": "stream",
     "text": [
      "['aho_corasick', 'bytes', 'cc', 'either', 'getrandom', 'hashbrown', 'indexmap', 'itertools', 'itoa', 'lazy_static', 'libc', 'lock_api', 'log', 'memchr', 'num_traits', 'once_cell', 'parking_lot', 'parking_lot_core', 'regex_automata', 'ryu', 'scopeguard', 'semver', 'serde', 'serde_json', 'smallvec', 'socket2', 'syn', 'time', 'unicode_ident']\n",
      "Number of crates: 44\n",
      "has_unsafe_thir_blocks    29\n",
      "has_unsafe                29\n",
      "has_unsafe_functions      20\n",
      "has_unsafe_trait_impls    15\n",
      "has_no_unsafe             15\n",
      "has_unsafe_traits          4\n",
      "has_unsafe_blocks          3\n",
      "dtype: int64\n",
      "has_unsafe_thir_blocks    65.909091\n",
      "has_unsafe                65.909091\n",
      "has_unsafe_functions      45.454545\n",
      "has_unsafe_trait_impls    34.090909\n",
      "has_no_unsafe             34.090909\n",
      "has_unsafe_traits          9.090909\n",
      "has_unsafe_blocks          6.818182\n",
      "dtype: float64\n"
     ]
    },
    {
     "data": {
      "image/png": "[encoded data removed]",
      "text/plain": [
       "<Figure size 1500x800 with 1 Axes>"
      ]
     },
     "metadata": {},
     "output_type": "display_data"
    }
   ],
   "source": [
    "join_key = \"crate_hash\"\n",
    "crates[\"has_unsafe_blocks\"] = crates[join_key].isin(set(user_written_unsafe_blocks[join_key].unique()))\n",
    "crates[\"has_unsafe_functions\"] = crates[join_key].isin(set(unsafe_function_definitions[join_key].unique()))\n",
    "crates[\"has_unsafe_traits\"] = crates[join_key].isin(set(unsafe_traits[join_key].unique()))\n",
    "crates[\"has_unsafe_trait_impls\"] = crates[join_key].isin(set(unsafe_traits_impls[join_key].unique()))\n",
    "crates[\"has_unsafe_thir_blocks\"] = crates[join_key].isin(set(unsafe_thir_blocks[join_key].unique()))\n",
    "print(sorted(list(crates[crates[\"has_unsafe_thir_blocks\"] == True]['crate'])))\n",
    "feature_names = [\n",
    "    \"has_unsafe_blocks\",\n",
    "    \"has_unsafe_functions\",\n",
    "    \"has_unsafe_traits\",\n",
    "    \"has_unsafe_trait_impls\",\n",
    "    \"has_unsafe_thir_blocks\",\n",
    "]\n",
    "\n",
    "crates[\"has_unsafe\"] = functools.reduce(lambda x, y: x | y, [crates[f] for f in feature_names])\n",
    "feature_names.append(\"has_unsafe\")\n",
    "\n",
    "crates[\"has_no_unsafe\"] = ~crates[\"has_unsafe\"]\n",
    "feature_names.append(\"has_no_unsafe\")\n",
    "\n",
    "print(\"Number of crates: {}\".format(len(crates)))\n",
    "\n",
    "feature_freq = crates[feature_names].apply(sum).sort_values(ascending=False)\n",
    "feature_freq.plot.bar(subplots=True, color=\"blue\", title=\"Features per crate\")\n",
    "print(feature_freq)\n",
    "print(feature_freq / len(crates) * 100)"
   ]
  },
  {
   "cell_type": "markdown",
   "metadata": {},
   "source": [
    "## Query 2\n",
    "\n",
    "> while Fig. 2 shows the relative amount of statements in unsafe blocks and functions in both all crates and, for readability, crates that contain at least one unsafe statement (our second query).\n",
    "\n",
    "#### Results from the paper for comparison (Fig. 2)\n",
    "\n",
    "![Fig. 2](pics/unsafe_proportion.png)\n"
   ]
  },
  {
   "cell_type": "code",
   "execution_count": null,
   "metadata": {},
   "outputs": [],
   "source": [
    "# Load tables\n",
    "selected_function_sizes = utils.load_selected_function_sizes()\n",
    "selected_build_sizes = utils.load_selected_build_sizes()"
   ]
  },
  {
   "cell_type": "code",
   "execution_count": null,
   "metadata": {},
   "outputs": [],
   "source": [
    "assert len(selected_build_sizes.query('statement_count == 0')) == 0"
   ]
  },
  {
   "cell_type": "code",
   "execution_count": null,
   "metadata": {},
   "outputs": [],
   "source": [
    "crates_with_unsafe_statements_count = len(selected_build_sizes.query('user_unsafe_statement_count > 0'))\n",
    "print(\"The number of crates with at least one user written unsafe MIR statement:\",\n",
    "      crates_with_unsafe_statements_count)\n",
    "print(\"Percentage:\", 100 * crates_with_unsafe_statements_count / len(crates))\n",
    "selected_build_sizes[\"ratio\"] = selected_build_sizes.apply(\n",
    "    lambda row: 100 * row['user_unsafe_statement_count']/row['statement_count'], axis=1)\n",
    "build_sizes_with_unsafe = selected_build_sizes.query('user_unsafe_statement_count > 0')"
   ]
  },
  {
   "cell_type": "code",
   "execution_count": null,
   "metadata": {},
   "outputs": [],
   "source": [
    "selected_builds = utils.load_selected_builds()\n",
    "unsafe_selected_build_hashes = set(selected_build_sizes['build_crate_hash'])\n",
    "selected_build_hashes = set(selected_builds['crate_hash'])\n",
    "assert unsafe_selected_build_hashes.issubset(selected_build_hashes)\n",
    "safe_selected_build_hashes = selected_build_hashes - unsafe_selected_build_hashes\n",
    "safe_selected_build_sizes = []\n",
    "for (_, build) in selected_builds.iterrows():\n",
    "    if build['crate_hash'] in unsafe_selected_build_hashes:\n",
    "        continue\n",
    "    safe_selected_build_sizes.append({\n",
    "        'package_name': build['package'],\n",
    "        'package_version': build['version'],\n",
    "        'crate_name': build['crate'],\n",
    "        'build_crate_hash': build['crate_hash'],\n",
    "        'edition': build['edition'],\n",
    "        'statement_count': 1,\n",
    "        'unsafe_statement_count': 0,\n",
    "        'user_unsafe_statement_count': 0,\n",
    "        'ratio': 0.0,\n",
    "    })\n",
    "all_selected_build_sizes = selected_build_sizes.append(safe_selected_build_sizes)\n",
    "assert len(all_selected_build_sizes) == len(selected_build_sizes) + len(safe_selected_build_sizes)\n",
    "assert len(selected_builds) == len(all_selected_build_sizes)"
   ]
  },
  {
   "cell_type": "code",
   "execution_count": null,
   "metadata": {},
   "outputs": [],
   "source": [
    "print('Proportion of all crates for which unsafe statement ratio is <= 10%:',\n",
    "      100 * len(all_selected_build_sizes.query('ratio <= 10'))/len(all_selected_build_sizes))\n",
    "print('Proportion of crates with at least one unsafe statement for which unsafe statement ratio is <= 20%:',\n",
    "      100 * len(build_sizes_with_unsafe.query('ratio <= 20'))/len(build_sizes_with_unsafe))"
   ]
  },
  {
   "cell_type": "code",
   "execution_count": null,
   "metadata": {},
   "outputs": [],
   "source": [
    "ax = all_selected_build_sizes.ratio.plot.hist(\n",
    " cumulative=True,\n",
    " density=1,\n",
    " bins=len(build_sizes_with_unsafe),\n",
    " xlim=(0, 100),\n",
    " ylim=(0, 1),\n",
    " histtype=\"step\",\n",
    " linewidth=4,\n",
    " fontsize=26,\n",
    ")\n",
    "ax2 = build_sizes_with_unsafe.ratio.plot.hist(\n",
    " cumulative=True,\n",
    " density=1,\n",
    " bins=len(build_sizes_with_unsafe),\n",
    " xlim=(0, 100),\n",
    " ylim=(0, 1),\n",
    " histtype=\"step\",\n",
    " linewidth=4,\n",
    " fontsize=26,\n",
    ")\n",
    "ax.title.set_size(20)\n",
    "ax.set_xlabel(\"Proportion of unsafe statements in a crate\", fontsize=32)\n",
    "ax.set_ylabel(\"Percentage of crates\", fontsize=32)\n",
    "ax.set_axisbelow(True)\n",
    "ax.set_yticklabels(['{:,.0%}'.format(x) for x in ax.get_yticks()])\n",
    "ax.set_xticklabels(['{:,.0%}'.format(x/100) for x in ax.get_xticks()])\n",
    "ax.set_xticks(range(0, 100, 10), minor=True)\n",
    "ax.set_xticks(range(0, 100, 20))\n",
    "ax.grid(True, linestyle='dotted')\n",
    "plt.show()"
   ]
  }
 ],
 "metadata": {
  "kernelspec": {
   "display_name": "Python 3 (ipykernel)",
   "language": "python",
   "name": "python3"
  },
  "language_info": {
   "codemirror_mode": {
    "name": "ipython",
    "version": 3
   },
   "file_extension": ".py",
   "mimetype": "text/x-python",
   "name": "python",
   "nbconvert_exporter": "python",
   "pygments_lexer": "ipython3",
   "version": "3.11.6"
  }
 },
 "nbformat": 4,
 "nbformat_minor": 4
}
