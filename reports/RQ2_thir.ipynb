{
 "cells": [
  {
   "cell_type": "markdown",
   "metadata": {},
   "source": [
    "# RQ 2 (Size)\n",
    "\n",
    "> What is the size of unsafe blocks that programmers write?"
   ]
  },
  {
   "cell_type": "markdown",
   "metadata": {},
   "source": [
    "## Setup"
   ]
  },
  {
   "cell_type": "code",
   "execution_count": 30,
   "metadata": {},
   "outputs": [],
   "source": [
    "# import libraries\n",
    "import itertools\n",
    "import functools\n",
    "import numpy as np\n",
    "import pandas as pd\n",
    "import matplotlib.pyplot as plt\n",
    "from sklearn import tree\n",
    "\n",
    "import utils\n",
    "import top_crates\n",
    "from whitelists import *\n",
    "from drawing import *\n",
    "\n",
    "# Configure pyplot: enlarge plots \n",
    "plt.rcParams['figure.figsize'] = [15/1.5, 8/1.4]\n",
    "# Configure pandas: show all columns when printing a dataframe\n",
    "pd.set_option('display.max_columns', None)\n",
    "# Configure pandas: show more rows when printing a dataframe\n",
    "pd.set_option('display.min_rows', 20)\n",
    "# Font for paper\n",
    "plt.rc('font', family='serif')"
   ]
  },
  {
   "cell_type": "code",
   "execution_count": 31,
   "metadata": {},
   "outputs": [],
   "source": [
    "# Load tables\n",
    "unsafe_blocks = utils.load_unsafe_thir_blocks()\n",
    "unsafe_block_sizes = utils.load_unsafe_thir_block_sizes()\n",
    "\n",
    "# Preprocessing\n",
    "user_written_unsafe_blocks = unsafe_blocks[unsafe_blocks.check_mode == \"UnsafeBlockUserProvided\"].copy()\n"
   ]
  },
  {
   "cell_type": "markdown",
   "metadata": {},
   "source": [
    "## Query 3\n",
    "\n",
    "> how many MIR statements does the compiler generate for user-written unsafe blocks\n",
    "\n",
    "#### Results from the paper for comparison (Fig. 3)\n",
    "\n",
    "![Fig. 3](pics/unsafe_blocks_size_cumulative.png)"
   ]
  },
  {
   "cell_type": "code",
   "execution_count": 32,
   "metadata": {},
   "outputs": [
    {
     "data": {
      "text/html": [
       "<div>\n",
       "<style scoped>\n",
       "    .dataframe tbody tr th:only-of-type {\n",
       "        vertical-align: middle;\n",
       "    }\n",
       "\n",
       "    .dataframe tbody tr th {\n",
       "        vertical-align: top;\n",
       "    }\n",
       "\n",
       "    .dataframe thead th {\n",
       "        text-align: right;\n",
       "    }\n",
       "</style>\n",
       "<table border=\"1\" class=\"dataframe\">\n",
       "  <thead>\n",
       "    <tr style=\"text-align: right;\">\n",
       "      <th></th>\n",
       "      <th>block</th>\n",
       "      <th>statements_count</th>\n",
       "    </tr>\n",
       "  </thead>\n",
       "  <tbody>\n",
       "    <tr>\n",
       "      <th>0</th>\n",
       "      <td>13</td>\n",
       "      <td>2.0</td>\n",
       "    </tr>\n",
       "    <tr>\n",
       "      <th>1</th>\n",
       "      <td>22</td>\n",
       "      <td>0.0</td>\n",
       "    </tr>\n",
       "    <tr>\n",
       "      <th>2</th>\n",
       "      <td>52</td>\n",
       "      <td>0.0</td>\n",
       "    </tr>\n",
       "    <tr>\n",
       "      <th>3</th>\n",
       "      <td>44</td>\n",
       "      <td>0.0</td>\n",
       "    </tr>\n",
       "    <tr>\n",
       "      <th>4</th>\n",
       "      <td>68</td>\n",
       "      <td>0.0</td>\n",
       "    </tr>\n",
       "    <tr>\n",
       "      <th>5</th>\n",
       "      <td>59</td>\n",
       "      <td>0.0</td>\n",
       "    </tr>\n",
       "    <tr>\n",
       "      <th>6</th>\n",
       "      <td>65</td>\n",
       "      <td>0.0</td>\n",
       "    </tr>\n",
       "    <tr>\n",
       "      <th>7</th>\n",
       "      <td>71</td>\n",
       "      <td>0.0</td>\n",
       "    </tr>\n",
       "    <tr>\n",
       "      <th>8</th>\n",
       "      <td>88</td>\n",
       "      <td>0.0</td>\n",
       "    </tr>\n",
       "    <tr>\n",
       "      <th>9</th>\n",
       "      <td>92</td>\n",
       "      <td>0.0</td>\n",
       "    </tr>\n",
       "    <tr>\n",
       "      <th>...</th>\n",
       "      <td>...</td>\n",
       "      <td>...</td>\n",
       "    </tr>\n",
       "    <tr>\n",
       "      <th>1055</th>\n",
       "      <td>140731</td>\n",
       "      <td>0.0</td>\n",
       "    </tr>\n",
       "    <tr>\n",
       "      <th>1056</th>\n",
       "      <td>140732</td>\n",
       "      <td>0.0</td>\n",
       "    </tr>\n",
       "    <tr>\n",
       "      <th>1057</th>\n",
       "      <td>140742</td>\n",
       "      <td>0.0</td>\n",
       "    </tr>\n",
       "    <tr>\n",
       "      <th>1058</th>\n",
       "      <td>140745</td>\n",
       "      <td>0.0</td>\n",
       "    </tr>\n",
       "    <tr>\n",
       "      <th>1059</th>\n",
       "      <td>140744</td>\n",
       "      <td>0.0</td>\n",
       "    </tr>\n",
       "    <tr>\n",
       "      <th>1060</th>\n",
       "      <td>140851</td>\n",
       "      <td>0.0</td>\n",
       "    </tr>\n",
       "    <tr>\n",
       "      <th>1061</th>\n",
       "      <td>140854</td>\n",
       "      <td>0.0</td>\n",
       "    </tr>\n",
       "    <tr>\n",
       "      <th>1062</th>\n",
       "      <td>140814</td>\n",
       "      <td>0.0</td>\n",
       "    </tr>\n",
       "    <tr>\n",
       "      <th>1063</th>\n",
       "      <td>140909</td>\n",
       "      <td>0.0</td>\n",
       "    </tr>\n",
       "    <tr>\n",
       "      <th>1064</th>\n",
       "      <td>140905</td>\n",
       "      <td>0.0</td>\n",
       "    </tr>\n",
       "  </tbody>\n",
       "</table>\n",
       "<p>1065 rows × 2 columns</p>\n",
       "</div>"
      ],
      "text/plain": [
       "       block  statements_count\n",
       "0         13               2.0\n",
       "1         22               0.0\n",
       "2         52               0.0\n",
       "3         44               0.0\n",
       "4         68               0.0\n",
       "5         59               0.0\n",
       "6         65               0.0\n",
       "7         71               0.0\n",
       "8         88               0.0\n",
       "9         92               0.0\n",
       "...      ...               ...\n",
       "1055  140731               0.0\n",
       "1056  140732               0.0\n",
       "1057  140742               0.0\n",
       "1058  140745               0.0\n",
       "1059  140744               0.0\n",
       "1060  140851               0.0\n",
       "1061  140854               0.0\n",
       "1062  140814               0.0\n",
       "1063  140909               0.0\n",
       "1064  140905               0.0\n",
       "\n",
       "[1065 rows x 2 columns]"
      ]
     },
     "execution_count": 32,
     "metadata": {},
     "output_type": "execute_result"
    }
   ],
   "source": [
    "# Count MIR elements\n",
    "sizes_df = user_written_unsafe_blocks[['block']].join(\n",
    "    unsafe_block_sizes[['block', 'statement_count']].set_index('block'),\n",
    "    on='block',\n",
    "    how='left',\n",
    ")\n",
    "user_written_unsafe_blocks[\"statements_count\"] = sizes_df.statement_count\n",
    "# fill NA with 0\n",
    "user_written_unsafe_blocks[\"statements_count\"] = user_written_unsafe_blocks[\"statements_count\"].fillna(0)\n",
    "user_written_unsafe_blocks[[\"block\", \"statements_count\"]]"
   ]
  },
  {
   "cell_type": "code",
   "execution_count": 33,
   "metadata": {},
   "outputs": [
    {
     "data": {
      "image/png": "[encoded data removed]",
      "text/plain": [
       "<Figure size 882.353x533.333 with 1 Axes>"
      ]
     },
     "metadata": {},
     "output_type": "display_data"
    },
    {
     "data": {
      "image/png": "[encoded data removed]",
      "text/plain": [
       "<Figure size 882.353x533.333 with 1 Axes>"
      ]
     },
     "metadata": {},
     "output_type": "display_data"
    },
    {
     "name": "stderr",
     "output_type": "stream",
     "text": [
      "/tmp/ipykernel_3654/2447950371.py:38: UserWarning: set_ticklabels() should only be used with a fixed number of ticks, i.e. after set_ticks() or using a FixedLocator.\n",
      "  ax.set_yticklabels(['{:,.0%}'.format(x) for x in ax.get_yticks()])\n"
     ]
    },
    {
     "data": {
      "image/png": "[encoded data removed]",
      "text/plain": [
       "<Figure size 882.353x533.333 with 1 Axes>"
      ]
     },
     "metadata": {},
     "output_type": "display_data"
    },
    {
     "name": "stdout",
     "output_type": "stream",
     "text": [
      "The portion of unsafe blocks covered in the depicted graph: 100.0 %\n",
      "The portion of unsafe blocks with #21 thir statements or less: 100.0 %\n",
      "Mean size of a unsafe block: 0.3220657276995305\n",
      "Median size of a unsafe block: 0.0\n"
     ]
    }
   ],
   "source": [
    "# Plot histograms\n",
    "\n",
    "# Configure pyplot: enlarge plots \n",
    "plt.rcParams['figure.figsize'] = [15/1.7, 8/1.5]\n",
    "\n",
    "user_written_unsafe_blocks.statements_count.plot.hist(\n",
    "    bins=500,\n",
    "    log=True,\n",
    "    xlim=(-0.1, user_written_unsafe_blocks.statements_count.max())\n",
    ")\n",
    "plt.show()\n",
    "\n",
    "user_written_unsafe_blocks.statements_count.describe()\n",
    "\n",
    "user_written_unsafe_blocks[\n",
    "    user_written_unsafe_blocks.statements_count <= 100\n",
    "].statements_count.plot.hist(\n",
    "    bins=100,\n",
    "    xlim=(0, 100)\n",
    ")\n",
    "plt.show()\n",
    "\n",
    "ax = user_written_unsafe_blocks.statements_count.plot.hist(\n",
    "    cumulative=True,\n",
    "    density=1,\n",
    "    bins=int(user_written_unsafe_blocks.statements_count.max()),\n",
    "    xlim=(0, 100),\n",
    "    ylim=(0, 1),\n",
    "    histtype=\"step\",\n",
    "    linewidth=2,\n",
    "    fontsize=12,\n",
    "    # title=\"Cumulative distribution\",\n",
    ")\n",
    "ax.title.set_size(20)\n",
    "ax.set_xlabel(\"Unsafe block size (THIR statements)\", fontsize=16)\n",
    "ax.set_ylabel(\"Percentage of unsafe blocks\", fontsize=16)\n",
    "ax.set_axisbelow(True)\n",
    "ax.set_yticklabels(['{:,.0%}'.format(x) for x in ax.get_yticks()])\n",
    "ax.set_xticks(range(0, 100, 10), minor=True)\n",
    "ax.set_xticks(range(0, 100, 20))\n",
    "ax.grid(True, linestyle='dotted')\n",
    "plt.show()\n",
    "print(\"The portion of unsafe blocks covered in the depicted graph:\",\n",
    "    100 * len(user_written_unsafe_blocks.query(\"statements_count <= 100\"))\n",
    "    /len(user_written_unsafe_blocks), \"%\"\n",
    ")\n",
    "print(\"The portion of unsafe blocks with #21 thir statements or less:\",\n",
    "    100 * len(user_written_unsafe_blocks.query(\"statements_count <= 21\"))\n",
    "    /len(user_written_unsafe_blocks), \"%\"\n",
    ")\n",
    "print(\"Mean size of a unsafe block:\", user_written_unsafe_blocks.statements_count.mean())\n",
    "print(\"Median size of a unsafe block:\", user_written_unsafe_blocks.statements_count.median())"
   ]
  },
  {
   "cell_type": "markdown",
   "metadata": {},
   "source": [
    "## Follow-ups"
   ]
  },
  {
   "cell_type": "markdown",
   "metadata": {},
   "source": [
    "> there is a significant share, namely 14.4% of tiny unsafe blocks that either wrap an expression (without function calls) or call a single unsafe function without changing any of its arguments"
   ]
  },
  {
   "cell_type": "code",
   "execution_count": 34,
   "metadata": {},
   "outputs": [
    {
     "name": "stdout",
     "output_type": "stream",
     "text": [
      "Not supported right now.\n"
     ]
    },
    {
     "ename": "AssertionError",
     "evalue": "",
     "output_type": "error",
     "traceback": [
      "\u001b[0;31m---------------------------------------------------------------------------\u001b[0m",
      "\u001b[0;31mAssertionError\u001b[0m                            Traceback (most recent call last)",
      "Cell \u001b[0;32mIn[34], line 2\u001b[0m\n\u001b[1;32m      1\u001b[0m \u001b[38;5;28mprint\u001b[39m(\u001b[38;5;124m\"\u001b[39m\u001b[38;5;124mNot supported right now.\u001b[39m\u001b[38;5;124m\"\u001b[39m)\n\u001b[0;32m----> 2\u001b[0m \u001b[38;5;28;01massert\u001b[39;00m \u001b[38;5;28;01mFalse\u001b[39;00m\n\u001b[1;32m      4\u001b[0m \u001b[38;5;28mprint\u001b[39m(\u001b[38;5;124m\"\u001b[39m\u001b[38;5;132;01m{:.1%}\u001b[39;00m\u001b[38;5;124m of the user-written unsafe blocks just call an unsafe functions, whithout evaluationg expressions for the arguments\u001b[39m\u001b[38;5;124m\"\u001b[39m\u001b[38;5;241m.\u001b[39mformat(\n\u001b[1;32m      5\u001b[0m     \u001b[38;5;28msum\u001b[39m(user_written_unsafe_blocks\u001b[38;5;241m.\u001b[39mmir_statements_count \u001b[38;5;241m==\u001b[39m \u001b[38;5;241m0\u001b[39m) \u001b[38;5;241m/\u001b[39m \u001b[38;5;28mlen\u001b[39m(user_written_unsafe_blocks)\n\u001b[1;32m      6\u001b[0m ))\n\u001b[1;32m      7\u001b[0m \u001b[38;5;28mprint\u001b[39m(\u001b[38;5;124m\"\u001b[39m\u001b[38;5;132;01m{:.1%}\u001b[39;00m\u001b[38;5;124m of the user-written unsafe blocks just evaluates an expression, whithout calling any function\u001b[39m\u001b[38;5;124m\"\u001b[39m\u001b[38;5;241m.\u001b[39mformat(\n\u001b[1;32m      8\u001b[0m     \u001b[38;5;28msum\u001b[39m(user_written_unsafe_blocks\u001b[38;5;241m.\u001b[39mmir_terminators_count \u001b[38;5;241m==\u001b[39m \u001b[38;5;241m0\u001b[39m) \u001b[38;5;241m/\u001b[39m \u001b[38;5;28mlen\u001b[39m(user_written_unsafe_blocks)\n\u001b[1;32m      9\u001b[0m ))\n",
      "\u001b[0;31mAssertionError\u001b[0m: "
     ]
    }
   ],
   "source": [
    "print(\"Not supported right now.\")\n",
    "assert False\n",
    "\n",
    "print(\"{:.1%} of the user-written unsafe blocks just call an unsafe functions, whithout evaluationg expressions for the arguments\".format(\n",
    "    sum(user_written_unsafe_blocks.mir_statements_count == 0) / len(user_written_unsafe_blocks)\n",
    "))\n",
    "print(\"{:.1%} of the user-written unsafe blocks just evaluates an expression, whithout calling any function\".format(\n",
    "    sum(user_written_unsafe_blocks.mir_terminators_count == 0) / len(user_written_unsafe_blocks)\n",
    "))\n",
    "print(\"sum: {:.1%}\".format(\n",
    "    (sum(user_written_unsafe_blocks.mir_statements_count == 0) +\n",
    "     sum(user_written_unsafe_blocks.mir_terminators_count == 0)) /\n",
    "    len(user_written_unsafe_blocks)\n",
    "))"
   ]
  },
  {
   "cell_type": "markdown",
   "metadata": {},
   "source": [
    "> Conversely, there is a small number (78 or 0.02%) of huge outliers whose size ranges from 2000 to 21306 #MIR.\n",
    "\n",
    "Note: 0.02% of unsafe blocks corresponds to 78 of which\n",
    "- 28 are generated by macros, \n",
    "- 16 are generated at compile time, and\n",
    "- 34 appear to be user written."
   ]
  },
  {
   "cell_type": "code",
   "execution_count": 35,
   "metadata": {},
   "outputs": [
    {
     "name": "stdout",
     "output_type": "stream",
     "text": [
      "Count of huge outliers: 0\n",
      "Percentage: 0.0\n",
      "Largest: 7.0\n"
     ]
    }
   ],
   "source": [
    "large_blocks = user_written_unsafe_blocks.query(\"statements_count >= 2000\")\n",
    "print(\"Count of huge outliers:\", len(large_blocks))\n",
    "print(\"Percentage:\", 100*len(large_blocks)/len(user_written_unsafe_blocks))\n",
    "print(\"Largest:\", user_written_unsafe_blocks.statements_count.max())"
   ]
  },
  {
   "cell_type": "code",
   "execution_count": 37,
   "metadata": {},
   "outputs": [
    {
     "name": "stdout",
     "output_type": "stream",
     "text": [
      "gen by macros: 0\n",
      "Series([], Name: count, dtype: int64)\n"
     ]
    }
   ],
   "source": [
    "data = user_written_unsafe_blocks[\n",
    "    (user_written_unsafe_blocks.statements_count >= 2000)\n",
    "    & (user_written_unsafe_blocks.expansion_kind != \"Root\")\n",
    "]\n",
    "print(\"gen by macros:\", len(data))\n",
    "print(data.crate.value_counts())\n",
    "del data"
   ]
  },
  {
   "cell_type": "code",
   "execution_count": 38,
   "metadata": {},
   "outputs": [
    {
     "name": "stdout",
     "output_type": "stream",
     "text": [
      "gen at compile time: 0\n",
      "Series([], Name: count, dtype: int64)\n"
     ]
    }
   ],
   "source": [
    "data = user_written_unsafe_blocks[\n",
    "    (user_written_unsafe_blocks.statements_count >= 2000)\n",
    "    & (user_written_unsafe_blocks.expansion_kind == \"Root\")\n",
    "    & (user_written_unsafe_blocks.file_name.str.contains(\"out/\"))\n",
    "]\n",
    "print(\"gen at compile time:\", len(data))\n",
    "print(data.crate.value_counts())\n",
    "del data"
   ]
  },
  {
   "cell_type": "code",
   "execution_count": 39,
   "metadata": {},
   "outputs": [
    {
     "name": "stdout",
     "output_type": "stream",
     "text": [
      "not gen at compile time or by macros: 0\n",
      "Series([], Name: count, dtype: int64)\n",
      "top cases:\n"
     ]
    },
    {
     "data": {
      "text/html": [
       "<div>\n",
       "<style scoped>\n",
       "    .dataframe tbody tr th:only-of-type {\n",
       "        vertical-align: middle;\n",
       "    }\n",
       "\n",
       "    .dataframe tbody tr th {\n",
       "        vertical-align: top;\n",
       "    }\n",
       "\n",
       "    .dataframe thead th {\n",
       "        text-align: right;\n",
       "    }\n",
       "</style>\n",
       "<table border=\"1\" class=\"dataframe\">\n",
       "  <thead>\n",
       "    <tr style=\"text-align: right;\">\n",
       "      <th></th>\n",
       "      <th>build</th>\n",
       "      <th>crate</th>\n",
       "      <th>crate_hash</th>\n",
       "      <th>def_path</th>\n",
       "      <th>def_path_hash</th>\n",
       "      <th>summary_key</th>\n",
       "      <th>block</th>\n",
       "      <th>check_mode</th>\n",
       "      <th>span</th>\n",
       "      <th>expansion_kind</th>\n",
       "      <th>expansion_kind_descr</th>\n",
       "      <th>file_name</th>\n",
       "      <th>line</th>\n",
       "      <th>col</th>\n",
       "      <th>statements_count</th>\n",
       "    </tr>\n",
       "  </thead>\n",
       "  <tbody>\n",
       "  </tbody>\n",
       "</table>\n",
       "</div>"
      ],
      "text/plain": [
       "Empty DataFrame\n",
       "Columns: [build, crate, crate_hash, def_path, def_path_hash, summary_key, block, check_mode, span, expansion_kind, expansion_kind_descr, file_name, line, col, statements_count]\n",
       "Index: []"
      ]
     },
     "execution_count": 39,
     "metadata": {},
     "output_type": "execute_result"
    }
   ],
   "source": [
    "data = user_written_unsafe_blocks[\n",
    "    (user_written_unsafe_blocks.statements_count >= 2000)\n",
    "    & (user_written_unsafe_blocks.expansion_kind == \"Root\")\n",
    "    & (~user_written_unsafe_blocks.file_name.str.contains(\"out/\"))\n",
    "]\n",
    "print(\"not gen at compile time or by macros:\", len(data))\n",
    "print(data.crate.value_counts())\n",
    "print(\"top cases:\")\n",
    "data[\n",
    "    data.statements_count >= 12000\n",
    "]"
   ]
  }
 ],
 "metadata": {
  "kernelspec": {
   "display_name": "Python 3 (ipykernel)",
   "language": "python",
   "name": "python3"
  },
  "language_info": {
   "codemirror_mode": {
    "name": "ipython",
    "version": 3
   },
   "file_extension": ".py",
   "mimetype": "text/x-python",
   "name": "python",
   "nbconvert_exporter": "python",
   "pygments_lexer": "ipython3",
   "version": "3.11.6"
  }
 },
 "nbformat": 4,
 "nbformat_minor": 4
}
