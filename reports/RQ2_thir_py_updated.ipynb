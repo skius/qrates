{
 "cells": [
  {
   "cell_type": "markdown",
   "metadata": {},
   "source": [
    "# RQ 2 (Size)\n",
    "\n",
    "> What is the size of unsafe blocks that programmers write?"
   ]
  },
  {
   "cell_type": "markdown",
   "metadata": {},
   "source": [
    "## Setup"
   ]
  },
  {
   "cell_type": "code",
   "execution_count": 2,
   "metadata": {},
   "outputs": [],
   "source": [
    "# import libraries\n",
    "import itertools\n",
    "import functools\n",
    "import numpy as np\n",
    "import pandas as pd\n",
    "import matplotlib.pyplot as plt\n",
    "from sklearn import tree\n",
    "\n",
    "import utils\n",
    "import top_crates\n",
    "from whitelists import *\n",
    "from drawing import *\n",
    "\n",
    "# Configure pyplot: enlarge plots \n",
    "plt.rcParams['figure.figsize'] = [15/1.5, 8/1.4]\n",
    "# Configure pandas: show all columns when printing a dataframe\n",
    "pd.set_option('display.max_columns', None)\n",
    "# Configure pandas: show more rows when printing a dataframe\n",
    "pd.set_option('display.min_rows', 20)\n",
    "# Font for paper\n",
    "plt.rc('font', family='serif')"
   ]
  },
  {
   "cell_type": "code",
   "execution_count": 3,
   "metadata": {},
   "outputs": [],
   "source": [
    "# Load tables\n",
    "unsafe_blocks = utils.load_unsafe_thir_blocks()\n",
    "unsafe_block_sizes = utils.load_unsafe_thir_block_sizes()\n",
    "\n",
    "# Preprocessing\n",
    "user_written_unsafe_blocks = unsafe_blocks[unsafe_blocks.check_mode == \"UnsafeBlockUserProvided\"].copy()"
   ]
  },
  {
   "cell_type": "markdown",
   "metadata": {},
   "source": [
    "## Query 3\n",
    "\n",
    "> how many MIR statements does the compiler generate for user-written unsafe blocks\n",
    "\n",
    "#### Results from the paper for comparison (Fig. 3)\n",
    "\n",
    "![Fig. 3](pics/unsafe_blocks_size_cumulative.png)"
   ]
  },
  {
   "cell_type": "code",
   "execution_count": 4,
   "metadata": {},
   "outputs": [
    {
     "data": {
      "text/html": [
       "<div>\n",
       "<style scoped>\n",
       "    .dataframe tbody tr th:only-of-type {\n",
       "        vertical-align: middle;\n",
       "    }\n",
       "\n",
       "    .dataframe tbody tr th {\n",
       "        vertical-align: top;\n",
       "    }\n",
       "\n",
       "    .dataframe thead th {\n",
       "        text-align: right;\n",
       "    }\n",
       "</style>\n",
       "<table border=\"1\" class=\"dataframe\">\n",
       "  <thead>\n",
       "    <tr style=\"text-align: right;\">\n",
       "      <th></th>\n",
       "      <th>block</th>\n",
       "      <th>statement_count</th>\n",
       "      <th>call_expr_count</th>\n",
       "      <th>has_trailing_expr</th>\n",
       "      <th>statement_count_incl_trailing</th>\n",
       "    </tr>\n",
       "  </thead>\n",
       "  <tbody>\n",
       "    <tr>\n",
       "      <th>0</th>\n",
       "      <td>13</td>\n",
       "      <td>2</td>\n",
       "      <td>5</td>\n",
       "      <td>True</td>\n",
       "      <td>3</td>\n",
       "    </tr>\n",
       "    <tr>\n",
       "      <th>1</th>\n",
       "      <td>22</td>\n",
       "      <td>0</td>\n",
       "      <td>4</td>\n",
       "      <td>True</td>\n",
       "      <td>1</td>\n",
       "    </tr>\n",
       "    <tr>\n",
       "      <th>2</th>\n",
       "      <td>52</td>\n",
       "      <td>0</td>\n",
       "      <td>1</td>\n",
       "      <td>True</td>\n",
       "      <td>1</td>\n",
       "    </tr>\n",
       "    <tr>\n",
       "      <th>3</th>\n",
       "      <td>44</td>\n",
       "      <td>0</td>\n",
       "      <td>1</td>\n",
       "      <td>True</td>\n",
       "      <td>1</td>\n",
       "    </tr>\n",
       "    <tr>\n",
       "      <th>4</th>\n",
       "      <td>68</td>\n",
       "      <td>0</td>\n",
       "      <td>1</td>\n",
       "      <td>True</td>\n",
       "      <td>1</td>\n",
       "    </tr>\n",
       "    <tr>\n",
       "      <th>5</th>\n",
       "      <td>59</td>\n",
       "      <td>0</td>\n",
       "      <td>1</td>\n",
       "      <td>True</td>\n",
       "      <td>1</td>\n",
       "    </tr>\n",
       "    <tr>\n",
       "      <th>6</th>\n",
       "      <td>65</td>\n",
       "      <td>0</td>\n",
       "      <td>1</td>\n",
       "      <td>True</td>\n",
       "      <td>1</td>\n",
       "    </tr>\n",
       "    <tr>\n",
       "      <th>7</th>\n",
       "      <td>71</td>\n",
       "      <td>0</td>\n",
       "      <td>2</td>\n",
       "      <td>True</td>\n",
       "      <td>1</td>\n",
       "    </tr>\n",
       "    <tr>\n",
       "      <th>8</th>\n",
       "      <td>88</td>\n",
       "      <td>0</td>\n",
       "      <td>1</td>\n",
       "      <td>True</td>\n",
       "      <td>1</td>\n",
       "    </tr>\n",
       "    <tr>\n",
       "      <th>9</th>\n",
       "      <td>92</td>\n",
       "      <td>0</td>\n",
       "      <td>1</td>\n",
       "      <td>True</td>\n",
       "      <td>1</td>\n",
       "    </tr>\n",
       "    <tr>\n",
       "      <th>...</th>\n",
       "      <td>...</td>\n",
       "      <td>...</td>\n",
       "      <td>...</td>\n",
       "      <td>...</td>\n",
       "      <td>...</td>\n",
       "    </tr>\n",
       "    <tr>\n",
       "      <th>5664</th>\n",
       "      <td>259463</td>\n",
       "      <td>0</td>\n",
       "      <td>1</td>\n",
       "      <td>True</td>\n",
       "      <td>1</td>\n",
       "    </tr>\n",
       "    <tr>\n",
       "      <th>5665</th>\n",
       "      <td>259464</td>\n",
       "      <td>0</td>\n",
       "      <td>1</td>\n",
       "      <td>True</td>\n",
       "      <td>1</td>\n",
       "    </tr>\n",
       "    <tr>\n",
       "      <th>5666</th>\n",
       "      <td>259474</td>\n",
       "      <td>0</td>\n",
       "      <td>0</td>\n",
       "      <td>True</td>\n",
       "      <td>1</td>\n",
       "    </tr>\n",
       "    <tr>\n",
       "      <th>5667</th>\n",
       "      <td>259477</td>\n",
       "      <td>0</td>\n",
       "      <td>1</td>\n",
       "      <td>True</td>\n",
       "      <td>1</td>\n",
       "    </tr>\n",
       "    <tr>\n",
       "      <th>5668</th>\n",
       "      <td>259476</td>\n",
       "      <td>0</td>\n",
       "      <td>1</td>\n",
       "      <td>True</td>\n",
       "      <td>1</td>\n",
       "    </tr>\n",
       "    <tr>\n",
       "      <th>5669</th>\n",
       "      <td>259583</td>\n",
       "      <td>0</td>\n",
       "      <td>1</td>\n",
       "      <td>True</td>\n",
       "      <td>1</td>\n",
       "    </tr>\n",
       "    <tr>\n",
       "      <th>5670</th>\n",
       "      <td>259586</td>\n",
       "      <td>0</td>\n",
       "      <td>1</td>\n",
       "      <td>True</td>\n",
       "      <td>1</td>\n",
       "    </tr>\n",
       "    <tr>\n",
       "      <th>5671</th>\n",
       "      <td>259546</td>\n",
       "      <td>0</td>\n",
       "      <td>1</td>\n",
       "      <td>True</td>\n",
       "      <td>1</td>\n",
       "    </tr>\n",
       "    <tr>\n",
       "      <th>5672</th>\n",
       "      <td>259641</td>\n",
       "      <td>0</td>\n",
       "      <td>3</td>\n",
       "      <td>True</td>\n",
       "      <td>1</td>\n",
       "    </tr>\n",
       "    <tr>\n",
       "      <th>5673</th>\n",
       "      <td>259637</td>\n",
       "      <td>0</td>\n",
       "      <td>3</td>\n",
       "      <td>True</td>\n",
       "      <td>1</td>\n",
       "    </tr>\n",
       "  </tbody>\n",
       "</table>\n",
       "<p>5674 rows × 5 columns</p>\n",
       "</div>"
      ],
      "text/plain": [
       "       block  statement_count  call_expr_count  has_trailing_expr  \\\n",
       "0         13                2                5               True   \n",
       "1         22                0                4               True   \n",
       "2         52                0                1               True   \n",
       "3         44                0                1               True   \n",
       "4         68                0                1               True   \n",
       "5         59                0                1               True   \n",
       "6         65                0                1               True   \n",
       "7         71                0                2               True   \n",
       "8         88                0                1               True   \n",
       "9         92                0                1               True   \n",
       "...      ...              ...              ...                ...   \n",
       "5664  259463                0                1               True   \n",
       "5665  259464                0                1               True   \n",
       "5666  259474                0                0               True   \n",
       "5667  259477                0                1               True   \n",
       "5668  259476                0                1               True   \n",
       "5669  259583                0                1               True   \n",
       "5670  259586                0                1               True   \n",
       "5671  259546                0                1               True   \n",
       "5672  259641                0                3               True   \n",
       "5673  259637                0                3               True   \n",
       "\n",
       "      statement_count_incl_trailing  \n",
       "0                                 3  \n",
       "1                                 1  \n",
       "2                                 1  \n",
       "3                                 1  \n",
       "4                                 1  \n",
       "5                                 1  \n",
       "6                                 1  \n",
       "7                                 1  \n",
       "8                                 1  \n",
       "9                                 1  \n",
       "...                             ...  \n",
       "5664                              1  \n",
       "5665                              1  \n",
       "5666                              1  \n",
       "5667                              1  \n",
       "5668                              1  \n",
       "5669                              1  \n",
       "5670                              1  \n",
       "5671                              1  \n",
       "5672                              1  \n",
       "5673                              1  \n",
       "\n",
       "[5674 rows x 5 columns]"
      ]
     },
     "execution_count": 4,
     "metadata": {},
     "output_type": "execute_result"
    }
   ],
   "source": [
    "# Count MIR elements\n",
    "sizes_df = user_written_unsafe_blocks[['block']].join(\n",
    "    unsafe_block_sizes[['block', 'statement_count', 'call_expr_count', 'has_trailing_expr']].set_index('block'),\n",
    "    on='block',\n",
    "    how='left',\n",
    ")\n",
    "user_written_unsafe_blocks[\"statement_count\"] = sizes_df.statement_count\n",
    "user_written_unsafe_blocks[\"call_expr_count\"] = sizes_df.call_expr_count\n",
    "user_written_unsafe_blocks[\"has_trailing_expr\"] = sizes_df.has_trailing_expr\n",
    "user_written_unsafe_blocks[\"statement_count_incl_trailing\"] = sizes_df.statement_count + sizes_df.has_trailing_expr\n",
    "user_written_unsafe_blocks[[\"block\", \"statement_count\", \"call_expr_count\", \"has_trailing_expr\", \"statement_count_incl_trailing\"]]"
   ]
  },
  {
   "cell_type": "code",
   "execution_count": 16,
   "metadata": {},
   "outputs": [
    {
     "data": {
      "image/png": "[encoded data removed]",
      "text/plain": [
       "<Figure size 882.353x533.333 with 1 Axes>"
      ]
     },
     "metadata": {},
     "output_type": "display_data"
    },
    {
     "data": {
      "image/png": "[encoded data removed]",
      "text/plain": [
       "<Figure size 882.353x533.333 with 1 Axes>"
      ]
     },
     "metadata": {},
     "output_type": "display_data"
    },
    {
     "name": "stderr",
     "output_type": "stream",
     "text": [
      "/tmp/ipykernel_1046/1933540958.py:41: UserWarning: set_ticklabels() should only be used with a fixed number of ticks, i.e. after set_ticks() or using a FixedLocator.\n",
      "  ax.set_yticklabels(['{:,.0%}'.format(x) for x in ax.get_yticks()])\n"
     ]
    },
    {
     "data": {
      "image/png": "[encoded data removed]",
      "text/plain": [
       "<Figure size 882.353x533.333 with 1 Axes>"
      ]
     },
     "metadata": {},
     "output_type": "display_data"
    },
    {
     "name": "stdout",
     "output_type": "stream",
     "text": [
      "The portion of unsafe blocks covered in the depicted graph: 100.0 %\n",
      "The portion of unsafe blocks with #21 MIR or less: 99.947127247092 %\n",
      "Mean size of a unsafe block: 1.2379273880860064\n",
      "Median size of a unsafe block: 1.0\n"
     ]
    }
   ],
   "source": [
    "# Plot histograms\n",
    "\n",
    "# Configure pyplot: enlarge plots \n",
    "plt.rcParams['figure.figsize'] = [15/1.7, 8/1.5]\n",
    "\n",
    "# Niels: pick either 'statement_count' or 'statement_count_incl_trailing'\n",
    "col = 'statement_count_incl_trailing'\n",
    "\n",
    "user_written_unsafe_blocks[col].plot.hist(\n",
    "    bins=500,\n",
    "    log=True,\n",
    "    xlim=(0, user_written_unsafe_blocks[col].max())\n",
    ")\n",
    "plt.show()\n",
    "\n",
    "user_written_unsafe_blocks[col].describe()\n",
    "\n",
    "user_written_unsafe_blocks[\n",
    "    user_written_unsafe_blocks[col] <= 100\n",
    "][col].plot.hist(\n",
    "    bins=100,\n",
    "    xlim=(0, 100)\n",
    ")\n",
    "plt.show()\n",
    "\n",
    "ax = user_written_unsafe_blocks[col].plot.hist(\n",
    "    cumulative=True,\n",
    "    density=1,\n",
    "    bins=int(user_written_unsafe_blocks[col].max()),\n",
    "    xlim=(0, 100),\n",
    "    ylim=(0, 1),\n",
    "    histtype=\"step\",\n",
    "    linewidth=2,\n",
    "    fontsize=12,\n",
    "    # title=\"Cumulative distribution\",\n",
    ")\n",
    "ax.title.set_size(20)\n",
    "ax.set_xlabel(f\"Unsafe block size ({col})\", fontsize=16)\n",
    "ax.set_ylabel(\"Percentage of unsafe blocks\", fontsize=16)\n",
    "ax.set_axisbelow(True)\n",
    "ax.set_yticklabels(['{:,.0%}'.format(x) for x in ax.get_yticks()])\n",
    "ax.set_xticks(range(0, 100, 10), minor=True)\n",
    "ax.set_xticks(range(0, 100, 20))\n",
    "ax.grid(True, linestyle='dotted')\n",
    "plt.show()\n",
    "print(\"The portion of unsafe blocks covered in the depicted graph:\",\n",
    "    100 * len(user_written_unsafe_blocks.query(f\"{col} <= 100\"))\n",
    "    /len(user_written_unsafe_blocks), \"%\"\n",
    ")\n",
    "print(\"The portion of unsafe blocks with #21 MIR or less:\",\n",
    "    100 * len(user_written_unsafe_blocks.query(f\"{col} <= 21\"))\n",
    "    /len(user_written_unsafe_blocks), \"%\"\n",
    ")\n",
    "print(\"Mean size of a unsafe block:\", user_written_unsafe_blocks[col].mean())\n",
    "print(\"Median size of a unsafe block:\", user_written_unsafe_blocks[col].median())"
   ]
  },
  {
   "cell_type": "markdown",
   "metadata": {},
   "source": [
    "## Follow-ups"
   ]
  },
  {
   "cell_type": "markdown",
   "metadata": {},
   "source": [
    "> there is a significant share, namely 14.4% of tiny unsafe blocks that either wrap an expression (without function calls) or call a single unsafe function without changing any of its arguments"
   ]
  },
  {
   "cell_type": "code",
   "execution_count": 6,
   "metadata": {},
   "outputs": [
    {
     "name": "stdout",
     "output_type": "stream",
     "text": [
      "79.0% of the user-written unsafe blocks are just a call with no associated statements\n",
      "5.9% of the user-written unsafe blocks don't call any function\n",
      "sum: 84.9%\n"
     ]
    }
   ],
   "source": [
    "# Niels: old: of the user-written unsafe blocks just call an unsafe functions, whithout evaluationg expressions for the arguments\n",
    "count_no_statements_only_trailing_calls = len(user_written_unsafe_blocks.query('statement_count == 0 and has_trailing_expr == True and call_expr_count > 0'))\n",
    "print(\"{:.1%} of the user-written unsafe blocks are just a call with no associated statements\".format(\n",
    "    count_no_statements_only_trailing_calls / len(user_written_unsafe_blocks)\n",
    "))\n",
    "# Niels: old: of the user-written unsafe blocks just evaluates an expression, whithout calling any function\n",
    "count_no_calls = sum(user_written_unsafe_blocks.call_expr_count == 0)\n",
    "print(\"{:.1%} of the user-written unsafe blocks don't call any function\".format(\n",
    "    count_no_calls / len(user_written_unsafe_blocks)\n",
    "))\n",
    "print(\"sum: {:.1%}\".format(\n",
    "    (count_no_statements_only_trailing_calls + count_no_calls) / len(user_written_unsafe_blocks)\n",
    "))"
   ]
  },
  {
   "cell_type": "markdown",
   "metadata": {},
   "source": [
    "> Conversely, there is a small number (78 or 0.02%) of huge outliers whose size ranges from 2000 to 21306 #MIR.\n",
    "\n",
    "Note: 0.02% of unsafe blocks corresponds to 78 of which\n",
    "- 28 are generated by macros, \n",
    "- 16 are generated at compile time, and\n",
    "- 34 appear to be user written."
   ]
  },
  {
   "cell_type": "code",
   "execution_count": 7,
   "metadata": {},
   "outputs": [
    {
     "name": "stdout",
     "output_type": "stream",
     "text": [
      "Count of huge outliers: 0\n",
      "Percentage: 0.0\n",
      "Largest: 45\n"
     ]
    }
   ],
   "source": [
    "# Niels: TODO: probably adjust the 2000 to something smaller? see based on 'Largest' output below.\n",
    "large_blocks = user_written_unsafe_blocks.query(\"statement_count_incl_trailing >= 2000\")\n",
    "print(\"Count of huge outliers:\", len(large_blocks))\n",
    "print(\"Percentage:\", 100*len(large_blocks)/len(user_written_unsafe_blocks))\n",
    "print(\"Largest:\", user_written_unsafe_blocks.statement_count_incl_trailing.max())"
   ]
  },
  {
   "cell_type": "code",
   "execution_count": 8,
   "metadata": {},
   "outputs": [
    {
     "name": "stdout",
     "output_type": "stream",
     "text": [
      "gen by macros: 0\n",
      "Series([], Name: count, dtype: int64)\n"
     ]
    }
   ],
   "source": [
    "data = user_written_unsafe_blocks[\n",
    "    (user_written_unsafe_blocks.statement_count >= 2000)\n",
    "    & (user_written_unsafe_blocks.expansion_kind != \"Root\")\n",
    "]\n",
    "print(\"gen by macros:\", len(data))\n",
    "print(data.crate.value_counts())\n",
    "del data"
   ]
  },
  {
   "cell_type": "code",
   "execution_count": 9,
   "metadata": {},
   "outputs": [
    {
     "name": "stdout",
     "output_type": "stream",
     "text": [
      "gen at compile time: 0\n",
      "Series([], Name: count, dtype: int64)\n"
     ]
    }
   ],
   "source": [
    "data = user_written_unsafe_blocks[\n",
    "    (user_written_unsafe_blocks.statement_count_incl_trailing >= 2000)\n",
    "    & (user_written_unsafe_blocks.expansion_kind == \"Root\")\n",
    "    & (user_written_unsafe_blocks.file_name.str.contains(\"out/\"))\n",
    "]\n",
    "print(\"gen at compile time:\", len(data))\n",
    "print(data.crate.value_counts())\n",
    "del data"
   ]
  },
  {
   "cell_type": "code",
   "execution_count": 10,
   "metadata": {},
   "outputs": [
    {
     "name": "stdout",
     "output_type": "stream",
     "text": [
      "not gen at compile time or by macros: 0\n",
      "Series([], Name: count, dtype: int64)\n",
      "top cases:\n"
     ]
    },
    {
     "data": {
      "text/html": [
       "<div>\n",
       "<style scoped>\n",
       "    .dataframe tbody tr th:only-of-type {\n",
       "        vertical-align: middle;\n",
       "    }\n",
       "\n",
       "    .dataframe tbody tr th {\n",
       "        vertical-align: top;\n",
       "    }\n",
       "\n",
       "    .dataframe thead th {\n",
       "        text-align: right;\n",
       "    }\n",
       "</style>\n",
       "<table border=\"1\" class=\"dataframe\">\n",
       "  <thead>\n",
       "    <tr style=\"text-align: right;\">\n",
       "      <th></th>\n",
       "      <th>build</th>\n",
       "      <th>crate</th>\n",
       "      <th>crate_hash</th>\n",
       "      <th>def_path</th>\n",
       "      <th>def_path_hash</th>\n",
       "      <th>summary_key</th>\n",
       "      <th>block</th>\n",
       "      <th>check_mode</th>\n",
       "      <th>span</th>\n",
       "      <th>expansion_kind</th>\n",
       "      <th>expansion_kind_descr</th>\n",
       "      <th>file_name</th>\n",
       "      <th>line</th>\n",
       "      <th>col</th>\n",
       "      <th>statement_count</th>\n",
       "      <th>call_expr_count</th>\n",
       "      <th>has_trailing_expr</th>\n",
       "      <th>statement_count_incl_trailing</th>\n",
       "    </tr>\n",
       "  </thead>\n",
       "  <tbody>\n",
       "  </tbody>\n",
       "</table>\n",
       "</div>"
      ],
      "text/plain": [
       "Empty DataFrame\n",
       "Columns: [build, crate, crate_hash, def_path, def_path_hash, summary_key, block, check_mode, span, expansion_kind, expansion_kind_descr, file_name, line, col, statement_count, call_expr_count, has_trailing_expr, statement_count_incl_trailing]\n",
       "Index: []"
      ]
     },
     "execution_count": 10,
     "metadata": {},
     "output_type": "execute_result"
    }
   ],
   "source": [
    "data = user_written_unsafe_blocks[\n",
    "    (user_written_unsafe_blocks.statement_count_incl_trailing >= 2000)\n",
    "    & (user_written_unsafe_blocks.expansion_kind == \"Root\")\n",
    "    & (~user_written_unsafe_blocks.file_name.str.contains(\"out/\"))\n",
    "]\n",
    "print(\"not gen at compile time or by macros:\", len(data))\n",
    "print(data.crate.value_counts())\n",
    "print(\"top cases:\")\n",
    "data[\n",
    "    data.statement_count_incl_trailing >= 12000\n",
    "]"
   ]
  }
 ],
 "metadata": {
  "kernelspec": {
   "display_name": "Python 3 (ipykernel)",
   "language": "python",
   "name": "python3"
  },
  "language_info": {
   "codemirror_mode": {
    "name": "ipython",
    "version": 3
   },
   "file_extension": ".py",
   "mimetype": "text/x-python",
   "name": "python",
   "nbconvert_exporter": "python",
   "pygments_lexer": "ipython3",
   "version": "3.11.6"
  }
 },
 "nbformat": 4,
 "nbformat_minor": 4
}
